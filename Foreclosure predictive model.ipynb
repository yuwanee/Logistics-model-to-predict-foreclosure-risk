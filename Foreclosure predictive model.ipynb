{
 "cells": [
  {
   "cell_type": "code",
   "execution_count": 53,
   "metadata": {},
   "outputs": [],
   "source": [
    "import pandas as pd\n",
    "import numpy as np\n",
    "import os\n",
    "import math\n",
    "import matplotlib.pyplot as plt \n",
    "import seaborn as sns\n",
    "import statsmodels.api as sm\n",
    "%matplotlib inline"
   ]
  },
  {
   "cell_type": "code",
   "execution_count": 54,
   "metadata": {},
   "outputs": [],
   "source": []
  },
  {
   "cell_type": "code",
   "execution_count": 55,
   "metadata": {
    "scrolled": true
   },
   "outputs": [
    {
     "name": "stderr",
     "output_type": "stream",
     "text": [
      "/anaconda3/lib/python3.7/site-packages/IPython/core/interactiveshell.py:3020: DtypeWarning: Columns (1) have mixed types. Specify dtype option on import or set low_memory=False.\n",
      "  interactivity=interactivity, compiler=compiler, result=result)\n"
     ]
    },
    {
     "data": {
      "text/plain": [
       "(1815126, 73)"
      ]
     },
     "execution_count": 55,
     "metadata": {},
     "output_type": "execute_result"
    }
   ],
   "source": [
    "df = pd.read_csv(data)\n",
    "df.shape"
   ]
  },
  {
   "cell_type": "markdown",
   "metadata": {},
   "source": [
    "## Logistic Regression "
   ]
  },
  {
   "cell_type": "code",
   "execution_count": 56,
   "metadata": {},
   "outputs": [],
   "source": [
    "# New DataFrame for groupnig values\n",
    "gdf = pd.DataFrame()\n",
    "gdf['dr_Foreclosure_Ind'] = df['dr_Foreclosure_Ind']"
   ]
  },
  {
   "cell_type": "code",
   "execution_count": 57,
   "metadata": {},
   "outputs": [],
   "source": [
    "# Manual grouping function\n",
    "def m_grp(col, bins):\n",
    "  bin = bins + [df[col].max()]\n",
    "  labels = bin[:-1]\n",
    "  gdf[col] = pd.cut(df[col], bin, labels = labels, include_lowest=True).astype(str)\n",
    "  \n",
    "# Natural grouping function\n",
    "def n_grp(col, min, max, interval):\n",
    "  bin = list(range(min, max, interval)) + [df[col].max()]\n",
    "  labels = bin[:-1]\n",
    "#   labels = list(range(len(bin)-1))\n",
    "  gdf[col] = pd.cut(df[col], bin, labels=labels, include_lowest=True).astype(str)\n",
    "  \n",
    "#Equal grouping\n",
    "# function\n",
    "def e_grp(col, bins):\n",
    "  spc = np.linspace(df[col].min(), df[col].max(), bins).tolist()\n",
    "  bin = [round(x,2) for x in spc]\n",
    "  labels = bin[:-1]\n",
    "  gdf[col] = pd.cut(df[col], bin, labels=labels, include_lowest=True).astype(str)"
   ]
  },
  {
   "cell_type": "code",
   "execution_count": 58,
   "metadata": {},
   "outputs": [],
   "source": [
    "#1.Mortgage1Amount - regrouped 100k-200k and 200k-300k\n",
    "m_grp('Mortgage1Amount', [0, 50000, 100000, 300000, 400000,500000])\n",
    "gdf.loc[gdf['Mortgage1Amount'] == 'nan', 'Mortgage1Amount'] = 'NA'\n",
    "gdf.loc[gdf['Mortgage1Amount'] == '0.0', 'Mortgage1Amount'] = 'LT50K'\n",
    "gdf.loc[gdf['Mortgage1Amount'] == '50000.0', 'Mortgage1Amount'] = '50K-100K'\n",
    "gdf.loc[gdf['Mortgage1Amount'] == '100000.0', 'Mortgage1Amount'] = '100K-300K'\n",
    "gdf.loc[gdf['Mortgage1Amount'] == '300000.0', 'Mortgage1Amount'] = '300K-400K'\n",
    "gdf.loc[gdf['Mortgage1Amount'] == '400000.0', 'Mortgage1Amount'] = '400K-500K'\n",
    "gdf.loc[gdf['Mortgage1Amount'] == '500000.0', 'Mortgage1Amount'] = 'GT500K'\n",
    "\n",
    "\n",
    "#2.AreaBuilding- regrouped LT1000SQFT and 1000-1500SQFT\n",
    "m_grp('AreaBuilding', [0, 1500, 3000])\n",
    "# The exposure for LT500 is small and the coefficient is close to 1, so comnibit it with 1000\n",
    "gdf.loc[gdf['AreaBuilding'] == 'nan', 'AreaBuilding'] = 'NA'\n",
    "gdf.loc[gdf['AreaBuilding'] == '0.0', 'AreaBuilding'] = 'LT1500SQFT'\n",
    "gdf.loc[gdf['AreaBuilding'] == '1500.0', 'AreaBuilding'] = '1500-3000SQFT'\n",
    "gdf.loc[gdf['AreaBuilding'] == '3000.0', 'AreaBuilding'] = 'GT3000SQFT'\n",
    "\n",
    "\n",
    "#3.E_SQMILES- regrouped 5-9 & 10-19\n",
    "m_grp('E_SQMILES', [0, 2, 5, 20, 50]) #median 9.27\n",
    "gdf.loc[gdf['E_SQMILES'] == 'nan', 'E_SQMILES'] = 'NA'\n",
    "gdf.loc[gdf['E_SQMILES'] == '0', 'E_SQMILES'] = 'LT2SQML'\n",
    "gdf.loc[gdf['E_SQMILES'] == '2', 'E_SQMILES'] = '2-4SQML'\n",
    "gdf.loc[gdf['E_SQMILES'] == '5', 'E_SQMILES'] = '5-19QML'\n",
    "gdf.loc[gdf['E_SQMILES'] == '20','E_SQMILES'] = '20-49SQML'\n",
    "gdf.loc[gdf['E_SQMILES'] == '50','E_SQMILES'] = 'GT50SQML'\n",
    "\n",
    "\n",
    "#4.E_DENSITY-regrouped 2500-5K and 5K-10K\n",
    "m_grp('E_DENSITY', [0, 100, 500, 1000, 2500, 10000, 40000]) #med 2647.1\n",
    "gdf.loc[gdf['E_DENSITY'] == 'nan', 'E_DENSITY'] = 'NA'\n",
    "gdf.loc[gdf['E_DENSITY'] == '0', 'E_DENSITY'] = 'LT100'\n",
    "gdf.loc[gdf['E_DENSITY'] == '100', 'E_DENSITY'] = '100-500'\n",
    "gdf.loc[gdf['E_DENSITY'] == '500', 'E_DENSITY'] = '500-1K'\n",
    "gdf.loc[gdf['E_DENSITY'] == '1000', 'E_DENSITY'] = '1K-2500'\n",
    "gdf.loc[gdf['E_DENSITY'] == '2500', 'E_DENSITY'] = '2500-10K'\n",
    "gdf.loc[gdf['E_DENSITY'] == '10000', 'E_DENSITY'] = '10K-40K'\n",
    "gdf.loc[gdf['E_DENSITY'] == '40000', 'E_DENSITY'] = 'GT40K'\n",
    "\n",
    "\n",
    "#5. E_MEDAGE\n",
    "m_grp('E_MEDAGE', [0, 25, 35, 45]) #gen Z, millenial, gen x, boomer\n",
    "# Combine 45 and 55 age group because they have similar coeff\n",
    "gdf.loc[gdf['E_MEDAGE'] == 'nan', 'E_MEDAGE'] = 'NA'\n",
    "gdf.loc[gdf['E_MEDAGE'] == '0', 'E_MEDAGE'] = 'LT25YRS'\n",
    "gdf.loc[gdf['E_MEDAGE'] == '25', 'E_MEDAGE'] = '25-34YRS'\n",
    "gdf.loc[gdf['E_MEDAGE'] == '35', 'E_MEDAGE'] = '35-45YRS'\n",
    "gdf.loc[gdf['E_MEDAGE'] == '45', 'E_MEDAGE'] = 'GT45YRS'\n",
    "\n",
    "\n",
    "\n",
    "#6. E_MEDHHSIZE - regrouped\n",
    "m_grp('E_MEDHHSIZE', [1, 2, 2.25, 2.5, 2.75, 3, 4]) #median 2.5\n",
    "# gdf.loc[gdf['E_MEDHHSIZE'] == 'nan', 'E_MEDHHSIZE'] = '2.25'\n",
    "# Use mode when missing value because NA category's p value by itself is too high, creating a unstable model \n",
    "gdf.loc[gdf['E_MEDHHSIZE'] == 'nan', 'E_MEDHHSIZE'] = '1-2.49'\n",
    "gdf.loc[gdf['E_MEDHHSIZE'] == '1.0', 'E_MEDHHSIZE'] = '1-2.49'\n",
    "gdf.loc[gdf['E_MEDHHSIZE'] == '2.0', 'E_MEDHHSIZE'] = '1-2.49'\n",
    "gdf.loc[gdf['E_MEDHHSIZE'] == '2.25', 'E_MEDHHSIZE'] = '1-2.49'\n",
    "gdf.loc[gdf['E_MEDHHSIZE'] == '2.5', 'E_MEDHHSIZE'] = '2.5-2.99'\n",
    "gdf.loc[gdf['E_MEDHHSIZE'] == '2.75', 'E_MEDHHSIZE'] = '2.5-2.99'\n",
    "gdf.loc[gdf['E_MEDHHSIZE'] == '3.0', 'E_MEDHHSIZE'] = '3-4'\n",
    "gdf.loc[gdf['E_MEDHHSIZE'] == '4.0', 'E_MEDHHSIZE'] = 'GT4'\n",
    "\n",
    "#7. E_MEDHHINC - regrouped (combine 111677.5 with 167516.25 together)\n",
    "e_grp('E_MEDHHINC', 5)\n",
    "gdf.loc[gdf['E_MEDHHINC'] == 'nan', 'E_MEDHHINC'] = 'NA'\n",
    "gdf.loc[gdf['E_MEDHHINC'] == '0.0', 'E_MEDHHINC'] = 'LT55838.75'\n",
    "gdf.loc[gdf['E_MEDHHINC'] == '55838.75', 'E_MEDHHINC'] = '55838.75-111677.5'\n",
    "gdf.loc[gdf['E_MEDHHINC'] == '111677.5', 'E_MEDHHINC'] = 'GT111677.5'\n",
    "gdf.loc[gdf['E_MEDHHINC'] == '167516.25', 'E_MEDHHINC'] = 'GT111677.5'\n",
    "\n",
    "#8. dr_House_Age - Note: 25-36YRS,37-48YRS,49-60YRS,61-72YRS have too high p-value and high exposures/counts\n",
    "  #should we drop it? but house age should have an impact on foreclosure\n",
    "n_grp('dr_House_Age', min = 1, max = 120, interval=12)\n",
    "gdf.loc[gdf['dr_House_Age'] == 'nan', 'dr_House_Age'] = 'NA'\n",
    "gdf.loc[gdf['dr_House_Age'] == '1.0', 'dr_House_Age'] = 'LT13YRS'\n",
    "gdf.loc[gdf['dr_House_Age'] == '13.0', 'dr_House_Age'] = '13-24YRS'\n",
    "gdf.loc[gdf['dr_House_Age'] == '25.0', 'dr_House_Age'] = '25-36YRS'\n",
    "gdf.loc[gdf['dr_House_Age'] == '37.0', 'dr_House_Age'] = '37-48YRS'\n",
    "gdf.loc[gdf['dr_House_Age'] == '49.0', 'dr_House_Age'] = '49-60YRS'\n",
    "gdf.loc[gdf['dr_House_Age'] == '61.0', 'dr_House_Age'] = '61-72YRS'\n",
    "gdf.loc[gdf['dr_House_Age'] == '73.0', 'dr_House_Age'] = '73-84YRS'\n",
    "gdf.loc[gdf['dr_House_Age'] == '85.0', 'dr_House_Age'] = '85-96YRS'\n",
    "gdf.loc[gdf['dr_House_Age'] == '97.0', 'dr_House_Age'] = '97-109YRS'\n",
    "gdf.loc[gdf['dr_House_Age'] == '109.0', 'dr_House_Age'] = 'GT109YRS'\n",
    "\n",
    "#9. dr_TRAVLTIME\n",
    "m_grp('dr_TRAVLTIME', [0.00,20.00,25.00,30.00,35.00,40.00,45.00])\n",
    "gdf.loc[gdf['dr_TRAVLTIME'] == 'nan', 'dr_TRAVLTIME'] = '0.0'\n",
    "\n",
    "\n",
    "#10.dr_Ownership_Period\n",
    "m_grp('dr_Ownership_Period', [0, 2, 6, 8, 10, 12, 14])\n",
    "gdf.loc[gdf['dr_Ownership_Period'] == 'nan', 'dr_Ownership_Period'] = 'NA'\n",
    "gdf.loc[gdf['dr_Ownership_Period'] == '0', 'dr_Ownership_Period'] = '0-2'\n",
    "gdf.loc[gdf['dr_Ownership_Period'] == '2', 'dr_Ownership_Period'] = '2-6'\n",
    "gdf.loc[gdf['dr_Ownership_Period'] == '6', 'dr_Ownership_Period'] = '6-8'\n",
    "gdf.loc[gdf['dr_Ownership_Period'] == '8', 'dr_Ownership_Period'] = '8-10'\n",
    "gdf.loc[gdf['dr_Ownership_Period'] == '10', 'dr_Ownership_Period'] = '10-12'\n",
    "gdf.loc[gdf['dr_Ownership_Period'] == '12', 'dr_Ownership_Period'] = '12-14'\n",
    "gdf.loc[gdf['dr_Ownership_Period'] == '14', 'dr_Ownership_Period'] = '14-16'\n",
    "\n",
    "\n",
    "#11. dr_OOCCHH\n",
    "def modifiede_grp(col, bins):\n",
    "  bin = np.linspace(df[col].min(), df[col].max(), bins).tolist()\n",
    "  labels = bin[:-1]\n",
    "  gdf[col] = pd.cut(df[col], bin, labels=labels, include_lowest=True).astype(str)\n",
    "\n",
    "df['dr_OOCCHH'] = df['E_OOCCHH']/df['E_HH10']\n",
    "modifiede_grp('dr_OOCCHH', 5)\n",
    "\n",
    "\n",
    "#12. E_POP10\n",
    "m_grp('E_POP10', [0, 19562.67, 29344.0, 39125.33, 48906.67, 58688.0, 68469.33, 78250.67])\n",
    "gdf.loc[gdf['E_POP10'] == '0', 'E_POP10'] = '0-19562.67'\n",
    "gdf.loc[gdf['E_POP10'] == '19562.67', 'E_POP10'] = '19562.67-29344.0'\n",
    "gdf.loc[gdf['E_POP10'] == '29344.0', 'E_POP10'] = '29344.0-39125.33'\n",
    "gdf.loc[gdf['E_POP10'] == '39125.33', 'E_POP10'] = '39125.33-48906.67'\n",
    "gdf.loc[gdf['E_POP10'] == '48906.67', 'E_POP10'] = '48906.67-58688.0'\n",
    "gdf.loc[gdf['E_POP10'] == '58688.0', 'E_POP10'] = '58688.0-68469.33'\n",
    "gdf.loc[gdf['E_POP10'] == '68469.33', 'E_POP10'] = '68469.33-78250.67'\n",
    "gdf.loc[gdf['E_POP10'] == '78250.67', 'E_POP10'] = '78250.67-'\n",
    "\n",
    "\n",
    "#13.\n",
    "df['dr_PERC_ASSO_ABOVE'] = df['dr_PERC_ASSO_ABOVE'].fillna(value=df['dr_PERC_ASSO_ABOVE'].mean())\n",
    "e_grp('dr_PERC_ASSO_ABOVE', 5)\n",
    "\n",
    "\n",
    "#14.\n",
    "#m_grp('dr_Annual_PopGrowth10', [-4,-2,-1,-0.5,0,0.5,1,2,4])\n",
    "# -4 an4 have small exposure and -4 has high p value\n",
    "m_grp('dr_Annual_PopGrowth10', [-2,-1,-0.5,0,0.5,1,2])\n",
    "#gdf.loc[gdf['dr_Annual_PopGrowth10'] == 'nan', 'dr_Annual_PopGrowth10'] = 'NA' \n",
    "gdf.loc[gdf['dr_Annual_PopGrowth10'] == 'nan', 'dr_Annual_PopGrowth10'] = '0.0' \n",
    "# Chaneg Null to 0 due to large p value and abnrmal coeff and very small exposure wehn having the NA category\n",
    "# Also missing value can be interpreted as no population chage \n",
    "\n",
    "\n",
    "#15.\n",
    "gdf['StatusOwnerOccupiedFlag'] = df['StatusOwnerOccupiedFlag'].astype(str)\n",
    "gdf.loc[gdf['StatusOwnerOccupiedFlag'] == 'nan', 'StatusOwnerOccupiedFlag'] = 'NA'\n",
    "\n",
    "\n",
    "#16.\n",
    "m_grp('TaxAssessedImprovementsPerc', [0.0,11.11,22.22,33.33,44.44,55.56,66.67,77.78,88.89])\n",
    "gdf.loc[gdf['TaxAssessedImprovementsPerc'] == 'nan', 'TaxAssessedImprovementsPerc'] = '0.0'\n",
    "# No value is similat to having 0 value, belonging to the lowest bucket\n",
    "\n",
    "\n",
    "#17.\n",
    "m_grp('TaxAssessedValueLand', [0,11800,23600,35400,47200,59000])\n",
    "gdf.loc[gdf['TaxAssessedValueLand'] == 'nan', 'TaxAssessedValueLand'] = '0.0'\n",
    "# No value is similat to having 0 value, belonging to the lowest bucket\n",
    "\n",
    "\n",
    "#18.\n",
    "gdf['dr_Value_Change'] = df['dr_Value_Change'].astype(str)\n",
    "gdf.loc[gdf['dr_Value_Change'] == 'nan', 'dr_Value_Change'] = 'NA'\n",
    "gdf.loc[gdf['dr_Value_Change'] == 'INC', 'dr_Value_Change'] = 'Increase'\n",
    "gdf.loc[gdf['dr_Value_Change'] == 'DEC', 'dr_Value_Change'] = 'Decrease'\n",
    "gdf.loc[gdf['dr_Value_Change'] == 'NC', 'dr_Value_Change'] = 'No change'\n",
    "\n",
    "\n",
    "#19. E_NOMORT\n",
    "df['dr_NOMORT'] = df['E_NOMORT']/df['E_HH10']\n",
    "df['dr_NOMORT'] = df['dr_NOMORT'].fillna(value=df['dr_NOMORT'].mean())\n",
    "m_grp('dr_NOMORT', [0,0.06, 0.12,0.18,0.24])\n",
    "gdf.loc[gdf['dr_NOMORT'] == '0.0', 'dr_NOMORT'] = 'LT 6%'\n",
    "gdf.loc[gdf['dr_NOMORT'] == '0.06', 'dr_NOMORT'] = '6-12%'\n",
    "gdf.loc[gdf['dr_NOMORT'] == '0.12', 'dr_NOMORT'] = '12-18%'\n",
    "gdf.loc[gdf['dr_NOMORT'] == '0.18', 'dr_NOMORT'] = '18-24%'\n",
    "gdf.loc[gdf['dr_NOMORT'] == '0.18', 'dr_NOMORT'] = 'GT 24%'\n",
    "\n",
    "#20.\n",
    "gdf['dr_Condo_Ind'] = df['dr_Condo_Ind'].astype(str)\n",
    "gdf.loc[gdf['dr_Condo_Ind'] == 'nan', 'dr_Condo_Ind'] = 'NA'\n",
    "gdf.loc[gdf['dr_Condo_Ind'] == '0', 'dr_Condo_Ind'] = 'Not condo'\n",
    "gdf.loc[gdf['dr_Condo_Ind'] == '1', 'dr_Condo_Ind'] = 'Condo'\n",
    "\n",
    "\n",
    "#21.\n",
    "#X_Risk_Score\n",
    "m_grp('X_Risk_Score', [0,650,700,750,800])\n",
    "#e_grp('X_Risk_Score', 9)gdf.loc[gdf['X_Bankruptcy_Index'] == 'nan', 'X_Bankruptcy_Index'] = 'NA'\n",
    "gdf.loc[gdf['X_Risk_Score'] == 'nan', 'X_Risk_Score'] = 'NA'\n",
    "gdf.loc[gdf['X_Risk_Score'] == '0.0', 'X_Risk_Score'] = 'LT650'\n",
    "gdf.loc[gdf['X_Risk_Score'] == '650', 'X_Risk_Score'] = '650-700'\n",
    "gdf.loc[gdf['X_Risk_Score'] == '700', 'X_Risk_Score'] = '700-750'\n",
    "gdf.loc[gdf['X_Risk_Score'] == '750', 'X_Risk_Score'] = '750-800'\n",
    "gdf.loc[gdf['X_Risk_Score'] == '800', 'X_Risk_Score'] = 'GT800'\n",
    "\n",
    "#.\n",
    "e_grp('E_HH10', 10)\n",
    "gdf.loc[gdf['E_HH10'] == 'nan', 'E_HH10'] = '0.0'\n",
    "# No value is similat to having 0 value, belonging to the lowest bucket"
   ]
  },
  {
   "cell_type": "code",
   "execution_count": 59,
   "metadata": {},
   "outputs": [
    {
     "data": {
      "text/plain": [
       "Index(['dr_Foreclosure_Ind', 'Mortgage1Amount', 'AreaBuilding', 'E_SQMILES',\n",
       "       'E_DENSITY', 'E_MEDAGE', 'E_MEDHHSIZE', 'E_MEDHHINC', 'dr_House_Age',\n",
       "       'dr_TRAVLTIME', 'dr_Ownership_Period', 'dr_OOCCHH', 'E_POP10',\n",
       "       'dr_PERC_ASSO_ABOVE', 'dr_Annual_PopGrowth10',\n",
       "       'StatusOwnerOccupiedFlag', 'TaxAssessedImprovementsPerc',\n",
       "       'TaxAssessedValueLand', 'dr_Value_Change', 'dr_NOMORT', 'dr_Condo_Ind',\n",
       "       'X_Risk_Score', 'E_HH10'],\n",
       "      dtype='object')"
      ]
     },
     "execution_count": 59,
     "metadata": {},
     "output_type": "execute_result"
    }
   ],
   "source": [
    "gdf.columns"
   ]
  },
  {
   "cell_type": "code",
   "execution_count": 60,
   "metadata": {},
   "outputs": [
    {
     "data": {
      "text/plain": [
       "(1815126, 23)"
      ]
     },
     "execution_count": 60,
     "metadata": {},
     "output_type": "execute_result"
    }
   ],
   "source": [
    "gdf.shape"
   ]
  },
  {
   "cell_type": "code",
   "execution_count": 61,
   "metadata": {},
   "outputs": [
    {
     "name": "stdout",
     "output_type": "stream",
     "text": [
      "(1089075, 23) (1089075,)\n",
      "(726051, 23) (726051,)\n"
     ]
    }
   ],
   "source": [
    "# create training and testing vars - with sample data to test\n",
    "from sklearn.model_selection import train_test_split\n",
    "X_train, X_test, y_train, y_test = train_test_split(gdf, gdf['dr_Foreclosure_Ind'], test_size=0.4, random_state = 123)\n",
    "print (X_train.shape, y_train.shape)\n",
    "print (X_test.shape, y_test.shape)"
   ]
  },
  {
   "cell_type": "code",
   "execution_count": 62,
   "metadata": {
    "scrolled": false
   },
   "outputs": [
    {
     "name": "stdout",
     "output_type": "stream",
     "text": [
      "                 Generalized Linear Model Regression Results                  \n",
      "==============================================================================\n",
      "Dep. Variable:     dr_Foreclosure_Ind   No. Observations:              1089055\n",
      "Model:                            GLM   Df Residuals:                  1088958\n",
      "Model Family:                Binomial   Df Model:                           96\n",
      "Link Function:                  logit   Scale:                          1.0000\n",
      "Method:                          IRLS   Log-Likelihood:            -2.2071e+05\n",
      "Date:                Sun, 11 Aug 2019   Deviance:                   4.4142e+05\n",
      "Time:                        20:21:18   Pearson chi2:                 1.12e+06\n",
      "No. Iterations:                     8   Covariance Type:             nonrobust\n",
      "===========================================================================================================\n",
      "                                              coef    std err          z      P>|z|      [0.025      0.975]\n",
      "-----------------------------------------------------------------------------------------------------------\n",
      "Intercept                                  -4.5557      0.116    -39.289      0.000      -4.783      -4.328\n",
      "C(Mortgage1Amount)[T.300K-400K]             0.3833      0.017     22.951      0.000       0.351       0.416\n",
      "C(Mortgage1Amount)[T.400K-500K]             0.6076      0.020     30.721      0.000       0.569       0.646\n",
      "C(Mortgage1Amount)[T.50K-100K]             -0.1971      0.018    -10.664      0.000      -0.233      -0.161\n",
      "C(Mortgage1Amount)[T.GT500K]                0.2602      0.020     12.864      0.000       0.221       0.300\n",
      "C(Mortgage1Amount)[T.LT50K]                -0.6263      0.018    -34.415      0.000      -0.662      -0.591\n",
      "C(Mortgage1Amount)[T.NA]                    0.6144      0.012     51.159      0.000       0.591       0.638\n",
      "C(AreaBuilding)[T.GT3000SQFT]              -0.2350      0.017    -13.684      0.000      -0.269      -0.201\n",
      "C(AreaBuilding)[T.LT1500SQFT]               0.1533      0.010     14.756      0.000       0.133       0.174\n",
      "C(AreaBuilding)[T.NA]                       0.0913      0.046      1.985      0.047       0.001       0.182\n",
      "C(E_SQMILES)[T.20-49SQML]                   0.0937      0.025      3.821      0.000       0.046       0.142\n",
      "C(E_SQMILES)[T.5-19QML]                    -0.0280      0.015     -1.867      0.062      -0.057       0.001\n",
      "C(E_SQMILES)[T.GT50SQML]                   -0.0100      0.031     -0.324      0.746      -0.070       0.050\n",
      "C(E_SQMILES)[T.LT2SQML]                    -0.2310      0.021    -10.747      0.000      -0.273      -0.189\n",
      "C(E_DENSITY)[T.10K-40K]                     0.0628      0.037      1.678      0.093      -0.011       0.136\n",
      "C(E_DENSITY)[T.1K-2500]                     0.2861      0.024     12.069      0.000       0.240       0.333\n",
      "C(E_DENSITY)[T.2500-10K]                    0.2966      0.028     10.784      0.000       0.243       0.350\n",
      "C(E_DENSITY)[T.500-1K]                      0.3027      0.022     13.912      0.000       0.260       0.345\n",
      "C(E_DENSITY)[T.GT40K]                       0.1085      0.048      2.243      0.025       0.014       0.203\n",
      "C(E_DENSITY)[T.LT100]                      -0.5468      0.027    -19.973      0.000      -0.600      -0.493\n",
      "C(E_MEDAGE)[T.35-45YRS]                    -0.0718      0.016     -4.590      0.000      -0.102      -0.041\n",
      "C(E_MEDAGE)[T.GT45YRS]                      0.0139      0.029      0.477      0.633      -0.043       0.071\n",
      "C(E_MEDAGE)[T.LT25YRS]                     -0.3439      0.053     -6.513      0.000      -0.447      -0.240\n",
      "C(E_MEDHHSIZE)[T.2.5-2.99]                  0.1449      0.015      9.355      0.000       0.115       0.175\n",
      "C(E_MEDHHSIZE)[T.3-4]                       0.3462      0.020     17.245      0.000       0.307       0.386\n",
      "C(E_MEDHHSIZE)[T.GT4]                       1.7047      0.062     27.432      0.000       1.583       1.826\n",
      "C(dr_Annual_PopGrowth10)[T.-1.0]           -0.0775      0.020     -3.804      0.000      -0.117      -0.038\n",
      "C(dr_Annual_PopGrowth10)[T.-2.0]           -0.3889      0.036    -10.657      0.000      -0.460      -0.317\n",
      "C(dr_Annual_PopGrowth10)[T.0.0]            -0.0350      0.012     -3.006      0.003      -0.058      -0.012\n",
      "C(dr_Annual_PopGrowth10)[T.0.5]             0.0100      0.014      0.736      0.462      -0.017       0.036\n",
      "C(dr_Annual_PopGrowth10)[T.1.0]            -0.1782      0.018    -10.142      0.000      -0.213      -0.144\n",
      "C(dr_Annual_PopGrowth10)[T.2.0]            -0.2140      0.032     -6.653      0.000      -0.277      -0.151\n",
      "C(StatusOwnerOccupiedFlag)[T.1.0]          -0.5335      0.092     -5.828      0.000      -0.713      -0.354\n",
      "C(StatusOwnerOccupiedFlag)[T.NA]           -0.4478      0.092     -4.892      0.000      -0.627      -0.268\n",
      "C(TaxAssessedImprovementsPerc)[T.11.11]     0.6277      0.037     17.075      0.000       0.556       0.700\n",
      "C(TaxAssessedImprovementsPerc)[T.22.22]     0.9389      0.032     29.566      0.000       0.877       1.001\n",
      "C(TaxAssessedImprovementsPerc)[T.33.33]     1.1156      0.030     36.612      0.000       1.056       1.175\n",
      "C(TaxAssessedImprovementsPerc)[T.44.44]     1.2066      0.030     40.736      0.000       1.149       1.265\n",
      "C(TaxAssessedImprovementsPerc)[T.55.56]     1.1547      0.027     42.524      0.000       1.101       1.208\n",
      "C(TaxAssessedImprovementsPerc)[T.66.67]     1.1239      0.025     44.525      0.000       1.074       1.173\n",
      "C(TaxAssessedImprovementsPerc)[T.77.78]     0.9839      0.025     39.893      0.000       0.936       1.032\n",
      "C(TaxAssessedImprovementsPerc)[T.88.89]     0.8746      0.025     34.674      0.000       0.825       0.924\n",
      "C(TaxAssessedValueLand)[T.11800.0]         -0.1675      0.014    -12.232      0.000      -0.194      -0.141\n",
      "C(TaxAssessedValueLand)[T.23600.0]         -0.1824      0.020     -9.002      0.000      -0.222      -0.143\n",
      "C(TaxAssessedValueLand)[T.35400.0]         -0.3407      0.027    -12.628      0.000      -0.394      -0.288\n",
      "C(TaxAssessedValueLand)[T.47200.0]         -0.2931      0.033     -8.890      0.000      -0.358      -0.229\n",
      "C(TaxAssessedValueLand)[T.59000.0]         -0.4039      0.020    -20.092      0.000      -0.443      -0.365\n",
      "C(E_POP10)[T.19562.67-29344.0]             -0.0730      0.015     -4.821      0.000      -0.103      -0.043\n",
      "C(E_POP10)[T.29344.0-39125.33]             -0.1576      0.018     -8.987      0.000      -0.192      -0.123\n",
      "C(E_POP10)[T.39125.33-48906.67]            -0.0409      0.019     -2.132      0.033      -0.079      -0.003\n",
      "C(E_POP10)[T.48906.67-58688.0]             -0.1023      0.026     -3.970      0.000      -0.153      -0.052\n",
      "C(E_POP10)[T.58688.0-68469.33]             -0.1153      0.024     -4.728      0.000      -0.163      -0.067\n",
      "C(E_POP10)[T.68469.33-78250.67]            -0.0498      0.033     -1.524      0.128      -0.114       0.014\n",
      "C(E_POP10)[T.78250.67-]                    -0.1726      0.027     -6.389      0.000      -0.226      -0.120\n",
      "C(dr_OOCCHH)[T.0.24342105263157895]         0.1176      0.028      4.202      0.000       0.063       0.172\n",
      "C(dr_OOCCHH)[T.0.4868421052631579]          0.2750      0.036      7.631      0.000       0.204       0.346\n",
      "C(dr_OOCCHH)[T.0.7302631578947368]          0.2096      0.040      5.205      0.000       0.131       0.289\n",
      "C(dr_NOMORT)[T.12-18%]                      0.5117      0.019     27.557      0.000       0.475       0.548\n",
      "C(dr_NOMORT)[T.18-24%]                      0.2451      0.015     16.465      0.000       0.216       0.274\n",
      "C(dr_NOMORT)[T.6-12%]                       0.7030      0.027     26.110      0.000       0.650       0.756\n",
      "C(dr_NOMORT)[T.LT 6%]                       1.0775      0.038     28.515      0.000       1.003       1.152\n",
      "C(E_MEDHHINC)[T.GT111677.5]                 0.1119      0.022      4.979      0.000       0.068       0.156\n",
      "C(E_MEDHHINC)[T.LT55838.75]                -0.0470      0.016     -2.959      0.003      -0.078      -0.016\n",
      "C(dr_PERC_ASSO_ABOVE)[T.22.72]              0.2178      0.021     10.561      0.000       0.177       0.258\n",
      "C(dr_PERC_ASSO_ABOVE)[T.45.45]              0.1067      0.025      4.339      0.000       0.059       0.155\n",
      "C(dr_PERC_ASSO_ABOVE)[T.68.17]             -0.2021      0.038     -5.358      0.000      -0.276      -0.128\n",
      "C(dr_Condo_Ind)[T.Not condo]                1.0410      0.029     35.439      0.000       0.983       1.099\n",
      "C(dr_Ownership_Period)[T.10.0]             -0.1461      0.017     -8.513      0.000      -0.180      -0.112\n",
      "C(dr_Ownership_Period)[T.12.0]             -0.0968      0.018     -5.253      0.000      -0.133      -0.061\n",
      "C(dr_Ownership_Period)[T.14.0]             -0.0626      0.017     -3.604      0.000      -0.097      -0.029\n",
      "C(dr_Ownership_Period)[T.2.0]              -0.7696      0.014    -54.085      0.000      -0.798      -0.742\n",
      "C(dr_Ownership_Period)[T.6.0]              -0.4968      0.019    -25.648      0.000      -0.535      -0.459\n",
      "C(dr_Ownership_Period)[T.8.0]              -0.4961      0.019    -25.522      0.000      -0.534      -0.458\n",
      "C(dr_Ownership_Period)[T.NA]               -0.4316      0.015    -29.338      0.000      -0.460      -0.403\n",
      "C(dr_House_Age)[T.25-36YRS]                -0.0952      0.024     -3.951      0.000      -0.142      -0.048\n",
      "C(dr_House_Age)[T.37-48YRS]                -0.1217      0.024     -4.985      0.000      -0.170      -0.074\n",
      "C(dr_House_Age)[T.49-60YRS]                -0.0318      0.022     -1.446      0.148      -0.075       0.011\n",
      "C(dr_House_Age)[T.61-72YRS]                -0.0085      0.022     -0.397      0.692      -0.051       0.034\n",
      "C(dr_House_Age)[T.73-84YRS]                -0.0223      0.026     -0.844      0.398      -0.074       0.029\n",
      "C(dr_House_Age)[T.85-96YRS]                 0.0345      0.022      1.568      0.117      -0.009       0.078\n",
      "C(dr_House_Age)[T.97-109YRS]                0.0644      0.022      2.884      0.004       0.021       0.108\n",
      "C(dr_House_Age)[T.GT109YRS]                 0.0807      0.022      3.714      0.000       0.038       0.123\n",
      "C(dr_House_Age)[T.LT13YRS]                 -0.5423      0.029    -18.653      0.000      -0.599      -0.485\n",
      "C(dr_House_Age)[T.NA]                       0.0849      0.047      1.799      0.072      -0.008       0.177\n",
      "C(dr_Value_Change)[T.Increase]             -0.5438      0.015    -36.778      0.000      -0.573      -0.515\n",
      "C(dr_Value_Change)[T.No change]            -0.5637      0.014    -41.006      0.000      -0.591      -0.537\n",
      "C(X_Risk_Score)[T.700.0]                   -0.4251      0.011    -38.437      0.000      -0.447      -0.403\n",
      "C(X_Risk_Score)[T.750.0]                   -1.0578      0.015    -72.414      0.000      -1.086      -1.029\n",
      "C(X_Risk_Score)[T.800.0]                   -2.0401      0.074    -27.621      0.000      -2.185      -1.895\n",
      "C(X_Risk_Score)[T.LT650]                    0.2575      0.014     18.148      0.000       0.230       0.285\n",
      "C(X_Risk_Score)[T.NA]                      -1.2064      0.031    -39.498      0.000      -1.266      -1.147\n",
      "C(dr_TRAVLTIME)[T.20.0]                     0.1579      0.026      6.013      0.000       0.106       0.209\n",
      "C(dr_TRAVLTIME)[T.25.0]                     0.4398      0.029     15.179      0.000       0.383       0.497\n",
      "C(dr_TRAVLTIME)[T.30.0]                     0.9435      0.030     31.611      0.000       0.885       1.002\n",
      "C(dr_TRAVLTIME)[T.35.0]                     0.8909      0.031     29.071      0.000       0.831       0.951\n",
      "C(dr_TRAVLTIME)[T.40.0]                     0.8073      0.033     24.747      0.000       0.743       0.871\n",
      "C(dr_TRAVLTIME)[T.45.0]                     0.8807      0.035     24.844      0.000       0.811       0.950\n",
      "===========================================================================================================\n"
     ]
    }
   ],
   "source": [
    "multi_model = sm.formula.glm(\"dr_Foreclosure_Ind~C(Mortgage1Amount)+C(AreaBuilding)+C(E_SQMILES)\\\n",
    "                             +C(E_DENSITY)+C(E_MEDAGE)+C(E_MEDHHSIZE)\\\n",
    "                             +C(dr_Annual_PopGrowth10)+C(StatusOwnerOccupiedFlag)\\\n",
    "                             +C(TaxAssessedImprovementsPerc)\\\n",
    "                             +C(TaxAssessedValueLand)\\\n",
    "                             +C(E_POP10)+C(dr_OOCCHH)+C(dr_NOMORT)\\\n",
    "                             +C(E_MEDHHINC)+C(dr_PERC_ASSO_ABOVE)+C(dr_Condo_Ind)+C(dr_Ownership_Period)\\\n",
    "                             +C(dr_House_Age)+C(dr_Value_Change)+C(X_Risk_Score)\\\n",
    "                             +C(dr_TRAVLTIME)\"\\\n",
    "                             , data=X_train, family=sm.families.Binomial()).fit()\n",
    "print(multi_model.summary())"
   ]
  },
  {
   "cell_type": "markdown",
   "metadata": {},
   "source": [
    "### Prediction"
   ]
  },
  {
   "cell_type": "code",
   "execution_count": 18,
   "metadata": {},
   "outputs": [],
   "source": [
    "X_test = X_test.drop('dr_Foreclosure_Ind', axis=1)"
   ]
  },
  {
   "cell_type": "code",
   "execution_count": 43,
   "metadata": {},
   "outputs": [
    {
     "data": {
      "text/plain": [
       "0.06358397010853437"
      ]
     },
     "execution_count": 43,
     "metadata": {},
     "output_type": "execute_result"
    }
   ],
   "source": [
    "pred = multi_model.predict(X_test)\n",
    "pred.mean()"
   ]
  },
  {
   "cell_type": "code",
   "execution_count": 44,
   "metadata": {},
   "outputs": [
    {
     "data": {
      "text/plain": [
       "648555    0.030317\n",
       "627335    0.063079\n",
       "250574    0.020560\n",
       "668483    0.004217\n",
       "263793    0.157845\n",
       "dtype: float64"
      ]
     },
     "execution_count": 44,
     "metadata": {},
     "output_type": "execute_result"
    }
   ],
   "source": [
    "pred.head()"
   ]
  },
  {
   "cell_type": "code",
   "execution_count": 112,
   "metadata": {},
   "outputs": [],
   "source": [
    "prediction = pred.apply(lambda x: 1 if x>=.21 else 0)"
   ]
  },
  {
   "cell_type": "code",
   "execution_count": 113,
   "metadata": {},
   "outputs": [
    {
     "data": {
      "text/plain": [
       "0    687055\n",
       "1     38996\n",
       "dtype: int64"
      ]
     },
     "execution_count": 113,
     "metadata": {},
     "output_type": "execute_result"
    }
   ],
   "source": [
    "prediction.value_counts()"
   ]
  },
  {
   "cell_type": "code",
   "execution_count": 114,
   "metadata": {},
   "outputs": [
    {
     "data": {
      "text/plain": [
       "0    679855\n",
       "1     46196\n",
       "Name: dr_Foreclosure_Ind, dtype: int64"
      ]
     },
     "execution_count": 114,
     "metadata": {},
     "output_type": "execute_result"
    }
   ],
   "source": [
    "y_test.value_counts()"
   ]
  },
  {
   "cell_type": "markdown",
   "metadata": {},
   "source": [
    "### Accuracy"
   ]
  },
  {
   "cell_type": "code",
   "execution_count": 115,
   "metadata": {
    "scrolled": false
   },
   "outputs": [
    {
     "name": "stdout",
     "output_type": "stream",
     "text": [
      "[[652805  27050]\n",
      " [ 34250  11946]]\n",
      "0.9155706692780534\n"
     ]
    }
   ],
   "source": [
    "from sklearn.metrics import classification_report, confusion_matrix\n",
    "from sklearn.metrics import accuracy_score\n",
    "print(confusion_matrix(y_pred = prediction, y_true = y_test))\n",
    "print(accuracy_score(y_pred = prediction, y_true = y_test))"
   ]
  },
  {
   "cell_type": "markdown",
   "metadata": {},
   "source": [
    "### Decile Tables"
   ]
  },
  {
   "cell_type": "code",
   "execution_count": 119,
   "metadata": {},
   "outputs": [],
   "source": [
    "pred_prob = pred"
   ]
  },
  {
   "cell_type": "code",
   "execution_count": 117,
   "metadata": {},
   "outputs": [
    {
     "data": {
      "text/plain": [
       "0    72606\n",
       "9    72605\n",
       "8    72605\n",
       "7    72605\n",
       "6    72605\n",
       "5    72605\n",
       "4    72605\n",
       "3    72605\n",
       "2    72605\n",
       "1    72605\n",
       "Name: decile, dtype: int64"
      ]
     },
     "execution_count": 117,
     "metadata": {},
     "output_type": "execute_result"
    }
   ],
   "source": [
    "predictions = pd.DataFrame(prediction)\n",
    "pred_scores = pd.DataFrame(columns=['actual','predict','pred_prob'])\n",
    "pred_scores['actual'] = y_test\n",
    "pred_scores['predict'] = predictions\n",
    "pred_scores['pred_prob'] = pd.DataFrame(pred_prob)\n",
    "pred_scores = pred_scores.sort_values(by='pred_prob',ascending=False)\n",
    "pred_scores['row_id'] = range(0,0+len(pred_scores))\n",
    "pred_scores['decile'] = ( pred_scores['row_id'] / (len(pred_scores)/10) ).astype(int)\n",
    "pred_scores.loc[pred_scores['decile'] == 10]=9\n",
    "pred_scores['decile'].value_counts()"
   ]
  },
  {
   "cell_type": "code",
   "execution_count": 120,
   "metadata": {},
   "outputs": [
    {
     "data": {
      "text/html": [
       "<div>\n",
       "<style scoped>\n",
       "    .dataframe tbody tr th:only-of-type {\n",
       "        vertical-align: middle;\n",
       "    }\n",
       "\n",
       "    .dataframe tbody tr th {\n",
       "        vertical-align: top;\n",
       "    }\n",
       "\n",
       "    .dataframe thead th {\n",
       "        text-align: right;\n",
       "    }\n",
       "</style>\n",
       "<table border=\"1\" class=\"dataframe\">\n",
       "  <thead>\n",
       "    <tr style=\"text-align: right;\">\n",
       "      <th></th>\n",
       "      <th>count</th>\n",
       "      <th>actual</th>\n",
       "      <th>pred</th>\n",
       "      <th>actual %</th>\n",
       "      <th>pred %</th>\n",
       "      <th>if_random</th>\n",
       "      <th>model lift</th>\n",
       "      <th>A/P</th>\n",
       "    </tr>\n",
       "    <tr>\n",
       "      <th>decile</th>\n",
       "      <th></th>\n",
       "      <th></th>\n",
       "      <th></th>\n",
       "      <th></th>\n",
       "      <th></th>\n",
       "      <th></th>\n",
       "      <th></th>\n",
       "      <th></th>\n",
       "    </tr>\n",
       "  </thead>\n",
       "  <tbody>\n",
       "    <tr>\n",
       "      <th>0</th>\n",
       "      <td>72606</td>\n",
       "      <td>18094</td>\n",
       "      <td>17500.0</td>\n",
       "      <td>0.249208</td>\n",
       "      <td>0.241027</td>\n",
       "      <td>4619.6</td>\n",
       "      <td>379.0</td>\n",
       "      <td>103.4</td>\n",
       "    </tr>\n",
       "    <tr>\n",
       "      <th>1</th>\n",
       "      <td>72605</td>\n",
       "      <td>8525</td>\n",
       "      <td>8865.0</td>\n",
       "      <td>0.117416</td>\n",
       "      <td>0.122099</td>\n",
       "      <td>4619.6</td>\n",
       "      <td>192.0</td>\n",
       "      <td>96.2</td>\n",
       "    </tr>\n",
       "    <tr>\n",
       "      <th>2</th>\n",
       "      <td>72605</td>\n",
       "      <td>5688</td>\n",
       "      <td>5922.0</td>\n",
       "      <td>0.078342</td>\n",
       "      <td>0.081565</td>\n",
       "      <td>4619.6</td>\n",
       "      <td>128.0</td>\n",
       "      <td>96.0</td>\n",
       "    </tr>\n",
       "    <tr>\n",
       "      <th>3</th>\n",
       "      <td>72605</td>\n",
       "      <td>4142</td>\n",
       "      <td>4263.0</td>\n",
       "      <td>0.057048</td>\n",
       "      <td>0.058715</td>\n",
       "      <td>4619.6</td>\n",
       "      <td>92.0</td>\n",
       "      <td>97.2</td>\n",
       "    </tr>\n",
       "    <tr>\n",
       "      <th>4</th>\n",
       "      <td>72605</td>\n",
       "      <td>3133</td>\n",
       "      <td>3151.0</td>\n",
       "      <td>0.043151</td>\n",
       "      <td>0.043399</td>\n",
       "      <td>4619.6</td>\n",
       "      <td>68.0</td>\n",
       "      <td>99.4</td>\n",
       "    </tr>\n",
       "    <tr>\n",
       "      <th>5</th>\n",
       "      <td>72605</td>\n",
       "      <td>2313</td>\n",
       "      <td>2342.0</td>\n",
       "      <td>0.031857</td>\n",
       "      <td>0.032257</td>\n",
       "      <td>4619.6</td>\n",
       "      <td>51.0</td>\n",
       "      <td>98.8</td>\n",
       "    </tr>\n",
       "    <tr>\n",
       "      <th>6</th>\n",
       "      <td>72605</td>\n",
       "      <td>1730</td>\n",
       "      <td>1713.0</td>\n",
       "      <td>0.023828</td>\n",
       "      <td>0.023593</td>\n",
       "      <td>4619.6</td>\n",
       "      <td>37.0</td>\n",
       "      <td>101.0</td>\n",
       "    </tr>\n",
       "    <tr>\n",
       "      <th>7</th>\n",
       "      <td>72605</td>\n",
       "      <td>1223</td>\n",
       "      <td>1215.0</td>\n",
       "      <td>0.016845</td>\n",
       "      <td>0.016734</td>\n",
       "      <td>4619.6</td>\n",
       "      <td>26.0</td>\n",
       "      <td>100.7</td>\n",
       "    </tr>\n",
       "    <tr>\n",
       "      <th>8</th>\n",
       "      <td>72605</td>\n",
       "      <td>854</td>\n",
       "      <td>798.0</td>\n",
       "      <td>0.011762</td>\n",
       "      <td>0.010991</td>\n",
       "      <td>4619.6</td>\n",
       "      <td>17.0</td>\n",
       "      <td>107.0</td>\n",
       "    </tr>\n",
       "    <tr>\n",
       "      <th>9</th>\n",
       "      <td>72605</td>\n",
       "      <td>494</td>\n",
       "      <td>396.0</td>\n",
       "      <td>0.006804</td>\n",
       "      <td>0.005454</td>\n",
       "      <td>4619.6</td>\n",
       "      <td>9.0</td>\n",
       "      <td>124.7</td>\n",
       "    </tr>\n",
       "  </tbody>\n",
       "</table>\n",
       "</div>"
      ],
      "text/plain": [
       "        count  actual     pred  actual %    pred %  if_random  model lift  \\\n",
       "decile                                                                      \n",
       "0       72606   18094  17500.0  0.249208  0.241027     4619.6       379.0   \n",
       "1       72605    8525   8865.0  0.117416  0.122099     4619.6       192.0   \n",
       "2       72605    5688   5922.0  0.078342  0.081565     4619.6       128.0   \n",
       "3       72605    4142   4263.0  0.057048  0.058715     4619.6        92.0   \n",
       "4       72605    3133   3151.0  0.043151  0.043399     4619.6        68.0   \n",
       "5       72605    2313   2342.0  0.031857  0.032257     4619.6        51.0   \n",
       "6       72605    1730   1713.0  0.023828  0.023593     4619.6        37.0   \n",
       "7       72605    1223   1215.0  0.016845  0.016734     4619.6        26.0   \n",
       "8       72605     854    798.0  0.011762  0.010991     4619.6        17.0   \n",
       "9       72605     494    396.0  0.006804  0.005454     4619.6         9.0   \n",
       "\n",
       "          A/P  \n",
       "decile         \n",
       "0       103.4  \n",
       "1        96.2  \n",
       "2        96.0  \n",
       "3        97.2  \n",
       "4        99.4  \n",
       "5        98.8  \n",
       "6       101.0  \n",
       "7       100.7  \n",
       "8       107.0  \n",
       "9       124.7  "
      ]
     },
     "execution_count": 120,
     "metadata": {},
     "output_type": "execute_result"
    }
   ],
   "source": [
    "gains = pred_scores.groupby('decile')['actual'].agg(['count','sum'])\n",
    "gains.columns = ['count','actual']\n",
    "gains['pred'] = round(pred_scores.groupby('decile')['pred_prob'].agg(['sum']),0)\n",
    "gains['actual %'] = gains['actual']/gains['count']\n",
    "gains['pred %'] = gains['pred']/gains['count']\n",
    "gains['if_random'] = sum(gains['actual']) /10 \n",
    "gains['model lift'] = round(gains['pred'] / gains['if_random'],2)*100\n",
    "gains['A/P'] = round(gains['actual %']/gains['pred %'],3)*100\n",
    "gains"
   ]
  },
  {
   "cell_type": "markdown",
   "metadata": {},
   "source": [
    "### Factor tables"
   ]
  },
  {
   "cell_type": "code",
   "execution_count": 44,
   "metadata": {},
   "outputs": [
    {
     "data": {
      "text/html": [
       "<div>\n",
       "<style scoped>\n",
       "    .dataframe tbody tr th:only-of-type {\n",
       "        vertical-align: middle;\n",
       "    }\n",
       "\n",
       "    .dataframe tbody tr th {\n",
       "        vertical-align: top;\n",
       "    }\n",
       "\n",
       "    .dataframe thead th {\n",
       "        text-align: right;\n",
       "    }\n",
       "</style>\n",
       "<table border=\"1\" class=\"dataframe\">\n",
       "  <thead>\n",
       "    <tr style=\"text-align: right;\">\n",
       "      <th></th>\n",
       "      <th>Coef</th>\n",
       "      <th>p-value</th>\n",
       "      <th>Factor</th>\n",
       "    </tr>\n",
       "  </thead>\n",
       "  <tbody>\n",
       "    <tr>\n",
       "      <th>Intercept</th>\n",
       "      <td>-4.555654</td>\n",
       "      <td>0.000000e+00</td>\n",
       "      <td>0.010508</td>\n",
       "    </tr>\n",
       "    <tr>\n",
       "      <th>C(Mortgage1Amount)[T.300K-400K]</th>\n",
       "      <td>0.383288</td>\n",
       "      <td>1.445069e-116</td>\n",
       "      <td>1.467101</td>\n",
       "    </tr>\n",
       "    <tr>\n",
       "      <th>C(Mortgage1Amount)[T.400K-500K]</th>\n",
       "      <td>0.607551</td>\n",
       "      <td>2.999874e-207</td>\n",
       "      <td>1.835931</td>\n",
       "    </tr>\n",
       "    <tr>\n",
       "      <th>C(Mortgage1Amount)[T.50K-100K]</th>\n",
       "      <td>-0.197132</td>\n",
       "      <td>1.492564e-26</td>\n",
       "      <td>0.821082</td>\n",
       "    </tr>\n",
       "    <tr>\n",
       "      <th>C(Mortgage1Amount)[T.GT500K]</th>\n",
       "      <td>0.260244</td>\n",
       "      <td>7.180519e-38</td>\n",
       "      <td>1.297246</td>\n",
       "    </tr>\n",
       "  </tbody>\n",
       "</table>\n",
       "</div>"
      ],
      "text/plain": [
       "                                     Coef        p-value    Factor\n",
       "Intercept                       -4.555654   0.000000e+00  0.010508\n",
       "C(Mortgage1Amount)[T.300K-400K]  0.383288  1.445069e-116  1.467101\n",
       "C(Mortgage1Amount)[T.400K-500K]  0.607551  2.999874e-207  1.835931\n",
       "C(Mortgage1Amount)[T.50K-100K]  -0.197132   1.492564e-26  0.821082\n",
       "C(Mortgage1Amount)[T.GT500K]     0.260244   7.180519e-38  1.297246"
      ]
     },
     "execution_count": 44,
     "metadata": {},
     "output_type": "execute_result"
    }
   ],
   "source": [
    "result_df = pd.DataFrame({'Coef' : multi_model.params, \n",
    "                         'p-value' : multi_model.pvalues,\n",
    "                         'Factor': np.exp(multi_model.params)})\n",
    "result_df.head()"
   ]
  },
  {
   "cell_type": "markdown",
   "metadata": {},
   "source": [
    "#### 18. dr_Value_Change"
   ]
  },
  {
   "cell_type": "code",
   "execution_count": 68,
   "metadata": {},
   "outputs": [
    {
     "data": {
      "text/html": [
       "<div>\n",
       "<style scoped>\n",
       "    .dataframe tbody tr th:only-of-type {\n",
       "        vertical-align: middle;\n",
       "    }\n",
       "\n",
       "    .dataframe tbody tr th {\n",
       "        vertical-align: top;\n",
       "    }\n",
       "\n",
       "    .dataframe thead th {\n",
       "        text-align: right;\n",
       "    }\n",
       "</style>\n",
       "<table border=\"1\" class=\"dataframe\">\n",
       "  <thead>\n",
       "    <tr style=\"text-align: right;\">\n",
       "      <th></th>\n",
       "      <th>dr_Value_Change</th>\n",
       "      <th>Count</th>\n",
       "    </tr>\n",
       "  </thead>\n",
       "  <tbody>\n",
       "    <tr>\n",
       "      <th>0</th>\n",
       "      <td>No change</td>\n",
       "      <td>1144595</td>\n",
       "    </tr>\n",
       "    <tr>\n",
       "      <th>1</th>\n",
       "      <td>Increase</td>\n",
       "      <td>518991</td>\n",
       "    </tr>\n",
       "    <tr>\n",
       "      <th>2</th>\n",
       "      <td>Decrease</td>\n",
       "      <td>151540</td>\n",
       "    </tr>\n",
       "  </tbody>\n",
       "</table>\n",
       "</div>"
      ],
      "text/plain": [
       "  dr_Value_Change    Count\n",
       "0       No change  1144595\n",
       "1        Increase   518991\n",
       "2        Decrease   151540"
      ]
     },
     "execution_count": 68,
     "metadata": {},
     "output_type": "execute_result"
    }
   ],
   "source": [
    "#bar plot with counts\n",
    "temp = gdf['dr_Value_Change'].value_counts()\n",
    "df1 = pd.DataFrame({'dr_Value_Change': temp.index, 'Count': temp.values})\n",
    "df1"
   ]
  },
  {
   "cell_type": "code",
   "execution_count": 69,
   "metadata": {},
   "outputs": [
    {
     "name": "stdout",
     "output_type": "stream",
     "text": [
      "  dr_Value_Change    Count\n",
      "2        Decrease   151540\n",
      "1        Increase   518991\n",
      "0       No change  1144595\n"
     ]
    },
    {
     "data": {
      "text/plain": [
       "<matplotlib.axes._subplots.AxesSubplot at 0x1c6c9e23c8>"
      ]
     },
     "execution_count": 69,
     "metadata": {},
     "output_type": "execute_result"
    },
    {
     "data": {
      "image/png": "[encoded data removed]",
      "text/plain": [
       "<Figure size 432x288 with 1 Axes>"
      ]
     },
     "metadata": {},
     "output_type": "display_data"
    }
   ],
   "source": [
    "# reorder \n",
    "df1 = df1.reindex([2,1,0])\n",
    "print(df1)\n",
    "sns.barplot(x = 'dr_Value_Change', y = 'Count', data = df1, color = 'yellowgreen')"
   ]
  },
  {
   "cell_type": "code",
   "execution_count": 70,
   "metadata": {},
   "outputs": [
    {
     "data": {
      "text/html": [
       "<div>\n",
       "<style scoped>\n",
       "    .dataframe tbody tr th:only-of-type {\n",
       "        vertical-align: middle;\n",
       "    }\n",
       "\n",
       "    .dataframe tbody tr th {\n",
       "        vertical-align: top;\n",
       "    }\n",
       "\n",
       "    .dataframe thead th {\n",
       "        text-align: right;\n",
       "    }\n",
       "</style>\n",
       "<table border=\"1\" class=\"dataframe\">\n",
       "  <thead>\n",
       "    <tr style=\"text-align: right;\">\n",
       "      <th></th>\n",
       "      <th>dr_Value_Change</th>\n",
       "      <th>Factor</th>\n",
       "    </tr>\n",
       "  </thead>\n",
       "  <tbody>\n",
       "    <tr>\n",
       "      <th>0</th>\n",
       "      <td>Decrease</td>\n",
       "      <td>1</td>\n",
       "    </tr>\n",
       "  </tbody>\n",
       "</table>\n",
       "</div>"
      ],
      "text/plain": [
       "  dr_Value_Change  Factor\n",
       "0        Decrease       1"
      ]
     },
     "execution_count": 70,
     "metadata": {},
     "output_type": "execute_result"
    }
   ],
   "source": [
    "df0 = pd.DataFrame({'dr_Value_Change':[\"Decrease\"],\n",
    "              'Factor':1})\n",
    "df0"
   ]
  },
  {
   "cell_type": "code",
   "execution_count": 71,
   "metadata": {},
   "outputs": [
    {
     "data": {
      "text/html": [
       "<div>\n",
       "<style scoped>\n",
       "    .dataframe tbody tr th:only-of-type {\n",
       "        vertical-align: middle;\n",
       "    }\n",
       "\n",
       "    .dataframe tbody tr th {\n",
       "        vertical-align: top;\n",
       "    }\n",
       "\n",
       "    .dataframe thead th {\n",
       "        text-align: right;\n",
       "    }\n",
       "</style>\n",
       "<table border=\"1\" class=\"dataframe\">\n",
       "  <thead>\n",
       "    <tr style=\"text-align: right;\">\n",
       "      <th></th>\n",
       "      <th>dr_Value_Change</th>\n",
       "      <th>Factor</th>\n",
       "    </tr>\n",
       "  </thead>\n",
       "  <tbody>\n",
       "    <tr>\n",
       "      <th>C(dr_Value_Change)[T.Increase]</th>\n",
       "      <td>Increase</td>\n",
       "      <td>0.580544</td>\n",
       "    </tr>\n",
       "    <tr>\n",
       "      <th>C(dr_Value_Change)[T.No change]</th>\n",
       "      <td>Not change</td>\n",
       "      <td>0.569097</td>\n",
       "    </tr>\n",
       "  </tbody>\n",
       "</table>\n",
       "</div>"
      ],
      "text/plain": [
       "                                dr_Value_Change    Factor\n",
       "C(dr_Value_Change)[T.Increase]         Increase  0.580544\n",
       "C(dr_Value_Change)[T.No change]      Not change  0.569097"
      ]
     },
     "execution_count": 71,
     "metadata": {},
     "output_type": "execute_result"
    }
   ],
   "source": [
    "df3 = pd.DataFrame({'dr_Value_Change':[\"Increase\",\"Not change\"],\n",
    "              'Factor':result_df.iloc[84:86,2]})\n",
    "df3"
   ]
  },
  {
   "cell_type": "code",
   "execution_count": 72,
   "metadata": {},
   "outputs": [
    {
     "data": {
      "text/html": [
       "<div>\n",
       "<style scoped>\n",
       "    .dataframe tbody tr th:only-of-type {\n",
       "        vertical-align: middle;\n",
       "    }\n",
       "\n",
       "    .dataframe tbody tr th {\n",
       "        vertical-align: top;\n",
       "    }\n",
       "\n",
       "    .dataframe thead th {\n",
       "        text-align: right;\n",
       "    }\n",
       "</style>\n",
       "<table border=\"1\" class=\"dataframe\">\n",
       "  <thead>\n",
       "    <tr style=\"text-align: right;\">\n",
       "      <th></th>\n",
       "      <th>dr_Value_Change</th>\n",
       "      <th>Factor</th>\n",
       "    </tr>\n",
       "  </thead>\n",
       "  <tbody>\n",
       "    <tr>\n",
       "      <th>0</th>\n",
       "      <td>Decrease</td>\n",
       "      <td>1.000000</td>\n",
       "    </tr>\n",
       "    <tr>\n",
       "      <th>C(dr_Value_Change)[T.Increase]</th>\n",
       "      <td>Increase</td>\n",
       "      <td>0.580544</td>\n",
       "    </tr>\n",
       "    <tr>\n",
       "      <th>C(dr_Value_Change)[T.No change]</th>\n",
       "      <td>Not change</td>\n",
       "      <td>0.569097</td>\n",
       "    </tr>\n",
       "  </tbody>\n",
       "</table>\n",
       "</div>"
      ],
      "text/plain": [
       "                                dr_Value_Change    Factor\n",
       "0                                      Decrease  1.000000\n",
       "C(dr_Value_Change)[T.Increase]         Increase  0.580544\n",
       "C(dr_Value_Change)[T.No change]      Not change  0.569097"
      ]
     },
     "execution_count": 72,
     "metadata": {},
     "output_type": "execute_result"
    }
   ],
   "source": [
    "df3 = pd.concat([df0,df3])\n",
    "df3"
   ]
  },
  {
   "cell_type": "code",
   "execution_count": 75,
   "metadata": {},
   "outputs": [
    {
     "data": {
      "image/png": "[encoded data removed]",
      "text/plain": [
       "<Figure size 720x360 with 2 Axes>"
      ]
     },
     "metadata": {},
     "output_type": "display_data"
    }
   ],
   "source": [
    "# combine the plot\n",
    "sns.axes_style('dark')\n",
    "sns.set_style(\"white\")\n",
    "\n",
    "\n",
    "fig, ax1 = plt.subplots(figsize=(10,5))\n",
    "ax2 = ax1.twinx()\n",
    "    \n",
    "sns.barplot(ax=ax2, x = 'dr_Value_Change', y='Count', data=df1, color='orange')\n",
    "df3.plot.line(ax = ax1, x='dr_Value_Change', y  = 'Factor', color = 'darkgreen', legend = None)\n",
    "\n",
    "plt.setp(ax1.lines,linewidth=2.5)\n",
    "    \n",
    "ax1.grid(False)\n",
    "ax2.grid(False)\n",
    "    \n",
    "ax1.set_ylabel('Factor', color='darkgreen',fontsize=20)\n",
    "ax2.set_ylabel('# of Properties', color='orange',fontsize=20)\n",
    "    \n",
    "ax1.set_zorder(ax2.get_zorder()+1) \n",
    "ax1.patch.set_visible(False)\n",
    "ax1.set_ylim(0, 2)\n",
    "\n",
    "    \n",
    "plt.tick_params(axis='both', which='major', labelsize=10)\n",
    "plt.show()"
   ]
  },
  {
   "cell_type": "markdown",
   "metadata": {},
   "source": [
    "#### 19. dr_NOMORT"
   ]
  },
  {
   "cell_type": "code",
   "execution_count": 76,
   "metadata": {},
   "outputs": [
    {
     "data": {
      "text/html": [
       "<div>\n",
       "<style scoped>\n",
       "    .dataframe tbody tr th:only-of-type {\n",
       "        vertical-align: middle;\n",
       "    }\n",
       "\n",
       "    .dataframe tbody tr th {\n",
       "        vertical-align: top;\n",
       "    }\n",
       "\n",
       "    .dataframe thead th {\n",
       "        text-align: right;\n",
       "    }\n",
       "</style>\n",
       "<table border=\"1\" class=\"dataframe\">\n",
       "  <thead>\n",
       "    <tr style=\"text-align: right;\">\n",
       "      <th></th>\n",
       "      <th>dr_NOMORT</th>\n",
       "      <th>Count</th>\n",
       "    </tr>\n",
       "  </thead>\n",
       "  <tbody>\n",
       "    <tr>\n",
       "      <th>0</th>\n",
       "      <td>0.24</td>\n",
       "      <td>636551</td>\n",
       "    </tr>\n",
       "    <tr>\n",
       "      <th>1</th>\n",
       "      <td>18-24%</td>\n",
       "      <td>541023</td>\n",
       "    </tr>\n",
       "    <tr>\n",
       "      <th>2</th>\n",
       "      <td>12-18%</td>\n",
       "      <td>317086</td>\n",
       "    </tr>\n",
       "    <tr>\n",
       "      <th>3</th>\n",
       "      <td>6-12%</td>\n",
       "      <td>202889</td>\n",
       "    </tr>\n",
       "    <tr>\n",
       "      <th>4</th>\n",
       "      <td>LT 6%</td>\n",
       "      <td>117577</td>\n",
       "    </tr>\n",
       "  </tbody>\n",
       "</table>\n",
       "</div>"
      ],
      "text/plain": [
       "  dr_NOMORT   Count\n",
       "0      0.24  636551\n",
       "1    18-24%  541023\n",
       "2    12-18%  317086\n",
       "3     6-12%  202889\n",
       "4     LT 6%  117577"
      ]
     },
     "execution_count": 76,
     "metadata": {},
     "output_type": "execute_result"
    }
   ],
   "source": [
    "#counts\n",
    "temp = gdf['dr_NOMORT'].value_counts()\n",
    "df1 = pd.DataFrame({'dr_NOMORT': temp.index, 'Count': temp.values})\n",
    "df1"
   ]
  },
  {
   "cell_type": "code",
   "execution_count": 77,
   "metadata": {},
   "outputs": [
    {
     "data": {
      "text/html": [
       "<div>\n",
       "<style scoped>\n",
       "    .dataframe tbody tr th:only-of-type {\n",
       "        vertical-align: middle;\n",
       "    }\n",
       "\n",
       "    .dataframe tbody tr th {\n",
       "        vertical-align: top;\n",
       "    }\n",
       "\n",
       "    .dataframe thead th {\n",
       "        text-align: right;\n",
       "    }\n",
       "</style>\n",
       "<table border=\"1\" class=\"dataframe\">\n",
       "  <thead>\n",
       "    <tr style=\"text-align: right;\">\n",
       "      <th></th>\n",
       "      <th>dr_NOMORT</th>\n",
       "      <th>Count</th>\n",
       "    </tr>\n",
       "  </thead>\n",
       "  <tbody>\n",
       "    <tr>\n",
       "      <th>4</th>\n",
       "      <td>LT 6%</td>\n",
       "      <td>117577</td>\n",
       "    </tr>\n",
       "    <tr>\n",
       "      <th>3</th>\n",
       "      <td>6-12%</td>\n",
       "      <td>202889</td>\n",
       "    </tr>\n",
       "    <tr>\n",
       "      <th>2</th>\n",
       "      <td>12-18%</td>\n",
       "      <td>317086</td>\n",
       "    </tr>\n",
       "    <tr>\n",
       "      <th>1</th>\n",
       "      <td>18-24%</td>\n",
       "      <td>541023</td>\n",
       "    </tr>\n",
       "    <tr>\n",
       "      <th>0</th>\n",
       "      <td>0.24</td>\n",
       "      <td>636551</td>\n",
       "    </tr>\n",
       "  </tbody>\n",
       "</table>\n",
       "</div>"
      ],
      "text/plain": [
       "  dr_NOMORT   Count\n",
       "4     LT 6%  117577\n",
       "3     6-12%  202889\n",
       "2    12-18%  317086\n",
       "1    18-24%  541023\n",
       "0      0.24  636551"
      ]
     },
     "execution_count": 77,
     "metadata": {},
     "output_type": "execute_result"
    }
   ],
   "source": [
    "# reorder \n",
    "df1 = df1.reindex([4,3,2,1,0])\n",
    "df1"
   ]
  },
  {
   "cell_type": "code",
   "execution_count": 78,
   "metadata": {},
   "outputs": [
    {
     "data": {
      "text/plain": [
       "<matplotlib.axes._subplots.AxesSubplot at 0x1c6c9ef8d0>"
      ]
     },
     "execution_count": 78,
     "metadata": {},
     "output_type": "execute_result"
    },
    {
     "data": {
      "image/png": "[encoded data removed]",
      "text/plain": [
       "<Figure size 432x288 with 1 Axes>"
      ]
     },
     "metadata": {},
     "output_type": "display_data"
    }
   ],
   "source": [
    "sns.barplot(x = 'dr_NOMORT', y = 'Count', data = df1, color = 'yellowgreen')"
   ]
  },
  {
   "cell_type": "code",
   "execution_count": 79,
   "metadata": {},
   "outputs": [
    {
     "data": {
      "text/html": [
       "<div>\n",
       "<style scoped>\n",
       "    .dataframe tbody tr th:only-of-type {\n",
       "        vertical-align: middle;\n",
       "    }\n",
       "\n",
       "    .dataframe tbody tr th {\n",
       "        vertical-align: top;\n",
       "    }\n",
       "\n",
       "    .dataframe thead th {\n",
       "        text-align: right;\n",
       "    }\n",
       "</style>\n",
       "<table border=\"1\" class=\"dataframe\">\n",
       "  <thead>\n",
       "    <tr style=\"text-align: right;\">\n",
       "      <th></th>\n",
       "      <th>dr_NOMORT</th>\n",
       "      <th>Factor</th>\n",
       "    </tr>\n",
       "  </thead>\n",
       "  <tbody>\n",
       "    <tr>\n",
       "      <th>0</th>\n",
       "      <td>GT24%</td>\n",
       "      <td>1</td>\n",
       "    </tr>\n",
       "  </tbody>\n",
       "</table>\n",
       "</div>"
      ],
      "text/plain": [
       "  dr_NOMORT  Factor\n",
       "0     GT24%       1"
      ]
     },
     "execution_count": 79,
     "metadata": {},
     "output_type": "execute_result"
    }
   ],
   "source": [
    "df0 = pd.DataFrame({'dr_NOMORT':[\"GT24%\"],\n",
    "              'Factor':1})\n",
    "df0"
   ]
  },
  {
   "cell_type": "code",
   "execution_count": 80,
   "metadata": {},
   "outputs": [
    {
     "data": {
      "text/plain": [
       "C(dr_NOMORT)[T.12-18%]    1.668064\n",
       "C(dr_NOMORT)[T.18-24%]    1.277748\n",
       "C(dr_NOMORT)[T.6-12%]     2.019828\n",
       "C(dr_NOMORT)[T.LT 6%]     2.937272\n",
       "Name: Factor, dtype: float64"
      ]
     },
     "execution_count": 80,
     "metadata": {},
     "output_type": "execute_result"
    }
   ],
   "source": [
    "a=result_df.iloc[57:61,2]\n",
    "a"
   ]
  },
  {
   "cell_type": "code",
   "execution_count": 81,
   "metadata": {},
   "outputs": [
    {
     "data": {
      "text/html": [
       "<div>\n",
       "<style scoped>\n",
       "    .dataframe tbody tr th:only-of-type {\n",
       "        vertical-align: middle;\n",
       "    }\n",
       "\n",
       "    .dataframe tbody tr th {\n",
       "        vertical-align: top;\n",
       "    }\n",
       "\n",
       "    .dataframe thead th {\n",
       "        text-align: right;\n",
       "    }\n",
       "</style>\n",
       "<table border=\"1\" class=\"dataframe\">\n",
       "  <thead>\n",
       "    <tr style=\"text-align: right;\">\n",
       "      <th></th>\n",
       "      <th>dr_NOMORT</th>\n",
       "      <th>Factor</th>\n",
       "    </tr>\n",
       "  </thead>\n",
       "  <tbody>\n",
       "    <tr>\n",
       "      <th>C(dr_NOMORT)[T.12-18%]</th>\n",
       "      <td>12-18%</td>\n",
       "      <td>1.668064</td>\n",
       "    </tr>\n",
       "    <tr>\n",
       "      <th>C(dr_NOMORT)[T.18-24%]</th>\n",
       "      <td>18-24%</td>\n",
       "      <td>1.277748</td>\n",
       "    </tr>\n",
       "    <tr>\n",
       "      <th>C(dr_NOMORT)[T.6-12%]</th>\n",
       "      <td>6-12%</td>\n",
       "      <td>2.019828</td>\n",
       "    </tr>\n",
       "    <tr>\n",
       "      <th>C(dr_NOMORT)[T.LT 6%]</th>\n",
       "      <td>LT 6%</td>\n",
       "      <td>2.937272</td>\n",
       "    </tr>\n",
       "  </tbody>\n",
       "</table>\n",
       "</div>"
      ],
      "text/plain": [
       "                       dr_NOMORT    Factor\n",
       "C(dr_NOMORT)[T.12-18%]    12-18%  1.668064\n",
       "C(dr_NOMORT)[T.18-24%]    18-24%  1.277748\n",
       "C(dr_NOMORT)[T.6-12%]      6-12%  2.019828\n",
       "C(dr_NOMORT)[T.LT 6%]      LT 6%  2.937272"
      ]
     },
     "execution_count": 81,
     "metadata": {},
     "output_type": "execute_result"
    }
   ],
   "source": [
    "df3 = pd.DataFrame({'dr_NOMORT':[\"12-18%\",\"18-24%\",\"6-12%\",\"LT 6%\"],\n",
    "              'Factor':result_df.iloc[57:61,2]})\n",
    "df3"
   ]
  },
  {
   "cell_type": "code",
   "execution_count": 82,
   "metadata": {},
   "outputs": [
    {
     "data": {
      "text/html": [
       "<div>\n",
       "<style scoped>\n",
       "    .dataframe tbody tr th:only-of-type {\n",
       "        vertical-align: middle;\n",
       "    }\n",
       "\n",
       "    .dataframe tbody tr th {\n",
       "        vertical-align: top;\n",
       "    }\n",
       "\n",
       "    .dataframe thead th {\n",
       "        text-align: right;\n",
       "    }\n",
       "</style>\n",
       "<table border=\"1\" class=\"dataframe\">\n",
       "  <thead>\n",
       "    <tr style=\"text-align: right;\">\n",
       "      <th></th>\n",
       "      <th>dr_NOMORT</th>\n",
       "      <th>Factor</th>\n",
       "    </tr>\n",
       "  </thead>\n",
       "  <tbody>\n",
       "    <tr>\n",
       "      <th>0</th>\n",
       "      <td>GT24%</td>\n",
       "      <td>1.000000</td>\n",
       "    </tr>\n",
       "    <tr>\n",
       "      <th>C(dr_NOMORT)[T.12-18%]</th>\n",
       "      <td>12-18%</td>\n",
       "      <td>1.668064</td>\n",
       "    </tr>\n",
       "    <tr>\n",
       "      <th>C(dr_NOMORT)[T.18-24%]</th>\n",
       "      <td>18-24%</td>\n",
       "      <td>1.277748</td>\n",
       "    </tr>\n",
       "    <tr>\n",
       "      <th>C(dr_NOMORT)[T.6-12%]</th>\n",
       "      <td>6-12%</td>\n",
       "      <td>2.019828</td>\n",
       "    </tr>\n",
       "    <tr>\n",
       "      <th>C(dr_NOMORT)[T.LT 6%]</th>\n",
       "      <td>LT 6%</td>\n",
       "      <td>2.937272</td>\n",
       "    </tr>\n",
       "  </tbody>\n",
       "</table>\n",
       "</div>"
      ],
      "text/plain": [
       "                       dr_NOMORT    Factor\n",
       "0                          GT24%  1.000000\n",
       "C(dr_NOMORT)[T.12-18%]    12-18%  1.668064\n",
       "C(dr_NOMORT)[T.18-24%]    18-24%  1.277748\n",
       "C(dr_NOMORT)[T.6-12%]      6-12%  2.019828\n",
       "C(dr_NOMORT)[T.LT 6%]      LT 6%  2.937272"
      ]
     },
     "execution_count": 82,
     "metadata": {},
     "output_type": "execute_result"
    }
   ],
   "source": [
    "df3 = pd.concat([df0,df3])\n",
    "df3"
   ]
  },
  {
   "cell_type": "code",
   "execution_count": 83,
   "metadata": {},
   "outputs": [
    {
     "data": {
      "text/html": [
       "<div>\n",
       "<style scoped>\n",
       "    .dataframe tbody tr th:only-of-type {\n",
       "        vertical-align: middle;\n",
       "    }\n",
       "\n",
       "    .dataframe tbody tr th {\n",
       "        vertical-align: top;\n",
       "    }\n",
       "\n",
       "    .dataframe thead th {\n",
       "        text-align: right;\n",
       "    }\n",
       "</style>\n",
       "<table border=\"1\" class=\"dataframe\">\n",
       "  <thead>\n",
       "    <tr style=\"text-align: right;\">\n",
       "      <th></th>\n",
       "      <th>dr_NOMORT</th>\n",
       "      <th>Factor</th>\n",
       "    </tr>\n",
       "  </thead>\n",
       "  <tbody>\n",
       "    <tr>\n",
       "      <th>C(dr_NOMORT)[T.LT 6%]</th>\n",
       "      <td>LT 6%</td>\n",
       "      <td>2.937272</td>\n",
       "    </tr>\n",
       "    <tr>\n",
       "      <th>C(dr_NOMORT)[T.6-12%]</th>\n",
       "      <td>6-12%</td>\n",
       "      <td>2.019828</td>\n",
       "    </tr>\n",
       "    <tr>\n",
       "      <th>C(dr_NOMORT)[T.12-18%]</th>\n",
       "      <td>12-18%</td>\n",
       "      <td>1.668064</td>\n",
       "    </tr>\n",
       "    <tr>\n",
       "      <th>C(dr_NOMORT)[T.18-24%]</th>\n",
       "      <td>18-24%</td>\n",
       "      <td>1.277748</td>\n",
       "    </tr>\n",
       "    <tr>\n",
       "      <th>0</th>\n",
       "      <td>GT24%</td>\n",
       "      <td>1.000000</td>\n",
       "    </tr>\n",
       "  </tbody>\n",
       "</table>\n",
       "</div>"
      ],
      "text/plain": [
       "                       dr_NOMORT    Factor\n",
       "C(dr_NOMORT)[T.LT 6%]      LT 6%  2.937272\n",
       "C(dr_NOMORT)[T.6-12%]      6-12%  2.019828\n",
       "C(dr_NOMORT)[T.12-18%]    12-18%  1.668064\n",
       "C(dr_NOMORT)[T.18-24%]    18-24%  1.277748\n",
       "0                          GT24%  1.000000"
      ]
     },
     "execution_count": 83,
     "metadata": {},
     "output_type": "execute_result"
    }
   ],
   "source": [
    "#re-order\n",
    "df3 = df3.reindex(['C(dr_NOMORT)[T.LT 6%]',\n",
    "            'C(dr_NOMORT)[T.6-12%]',\n",
    "             'C(dr_NOMORT)[T.12-18%]',\n",
    "             'C(dr_NOMORT)[T.18-24%]',\n",
    "             0])\n",
    "df3"
   ]
  },
  {
   "cell_type": "code",
   "execution_count": 84,
   "metadata": {},
   "outputs": [
    {
     "data": {
      "image/png": "[encoded data removed]",
      "text/plain": [
       "<Figure size 1152x576 with 2 Axes>"
      ]
     },
     "metadata": {},
     "output_type": "display_data"
    }
   ],
   "source": [
    "# combine the plot\n",
    "sns.axes_style('dark')\n",
    "sns.set_style(\"white\")\n",
    "\n",
    "\n",
    "fig, ax1 = plt.subplots(figsize=(16,8))\n",
    "ax2 = ax1.twinx()\n",
    "    \n",
    "sns.barplot(ax=ax2, x = 'dr_NOMORT', y='Count', data=df1, color='orange')\n",
    "df3.plot.line(ax = ax1, x='dr_NOMORT', y  = 'Factor', color = 'darkgreen', legend = None)\n",
    "\n",
    "plt.setp(ax1.lines,linewidth=2.5)\n",
    "    \n",
    "ax1.grid(False)\n",
    "ax2.grid(False)\n",
    "    \n",
    "ax1.set_ylabel('Factor', color='darkgreen',fontsize=20)\n",
    "ax2.set_ylabel('# of Properties', color='orange',fontsize=20)\n",
    "    \n",
    "ax1.set_zorder(ax2.get_zorder()+1) \n",
    "ax1.patch.set_visible(False)\n",
    "ax1.set_ylim(0, 3.5)\n",
    "\n",
    "    \n",
    "plt.tick_params(axis='both', which='major', labelsize=10)\n",
    "plt.show()"
   ]
  },
  {
   "cell_type": "markdown",
   "metadata": {},
   "source": [
    "#### 20. dr_condo_ind"
   ]
  },
  {
   "cell_type": "code",
   "execution_count": 85,
   "metadata": {},
   "outputs": [
    {
     "data": {
      "text/html": [
       "<div>\n",
       "<style scoped>\n",
       "    .dataframe tbody tr th:only-of-type {\n",
       "        vertical-align: middle;\n",
       "    }\n",
       "\n",
       "    .dataframe tbody tr th {\n",
       "        vertical-align: top;\n",
       "    }\n",
       "\n",
       "    .dataframe thead th {\n",
       "        text-align: right;\n",
       "    }\n",
       "</style>\n",
       "<table border=\"1\" class=\"dataframe\">\n",
       "  <thead>\n",
       "    <tr style=\"text-align: right;\">\n",
       "      <th></th>\n",
       "      <th>dr_Condo_Ind</th>\n",
       "      <th>Count</th>\n",
       "    </tr>\n",
       "  </thead>\n",
       "  <tbody>\n",
       "    <tr>\n",
       "      <th>0</th>\n",
       "      <td>Not condo</td>\n",
       "      <td>1649222</td>\n",
       "    </tr>\n",
       "    <tr>\n",
       "      <th>1</th>\n",
       "      <td>Condo</td>\n",
       "      <td>165904</td>\n",
       "    </tr>\n",
       "  </tbody>\n",
       "</table>\n",
       "</div>"
      ],
      "text/plain": [
       "  dr_Condo_Ind    Count\n",
       "0    Not condo  1649222\n",
       "1        Condo   165904"
      ]
     },
     "execution_count": 85,
     "metadata": {},
     "output_type": "execute_result"
    }
   ],
   "source": [
    "#counts\n",
    "temp = gdf['dr_Condo_Ind'].value_counts()\n",
    "df1 = pd.DataFrame({'dr_Condo_Ind': temp.index, 'Count': temp.values})\n",
    "df1"
   ]
  },
  {
   "cell_type": "code",
   "execution_count": 86,
   "metadata": {},
   "outputs": [
    {
     "data": {
      "text/html": [
       "<div>\n",
       "<style scoped>\n",
       "    .dataframe tbody tr th:only-of-type {\n",
       "        vertical-align: middle;\n",
       "    }\n",
       "\n",
       "    .dataframe tbody tr th {\n",
       "        vertical-align: top;\n",
       "    }\n",
       "\n",
       "    .dataframe thead th {\n",
       "        text-align: right;\n",
       "    }\n",
       "</style>\n",
       "<table border=\"1\" class=\"dataframe\">\n",
       "  <thead>\n",
       "    <tr style=\"text-align: right;\">\n",
       "      <th></th>\n",
       "      <th>dr_Condo_Ind</th>\n",
       "      <th>Factor</th>\n",
       "    </tr>\n",
       "  </thead>\n",
       "  <tbody>\n",
       "    <tr>\n",
       "      <th>0</th>\n",
       "      <td>Condo</td>\n",
       "      <td>1</td>\n",
       "    </tr>\n",
       "  </tbody>\n",
       "</table>\n",
       "</div>"
      ],
      "text/plain": [
       "  dr_Condo_Ind  Factor\n",
       "0        Condo       1"
      ]
     },
     "execution_count": 86,
     "metadata": {},
     "output_type": "execute_result"
    }
   ],
   "source": [
    "df0 = pd.DataFrame({'dr_Condo_Ind':[\"Condo\"],\n",
    "              'Factor':1})\n",
    "df0"
   ]
  },
  {
   "cell_type": "code",
   "execution_count": 88,
   "metadata": {},
   "outputs": [
    {
     "data": {
      "text/plain": [
       "C(dr_Condo_Ind)[T.Not condo]    2.832104\n",
       "Name: Factor, dtype: float64"
      ]
     },
     "execution_count": 88,
     "metadata": {},
     "output_type": "execute_result"
    }
   ],
   "source": [
    "a=result_df.iloc[66:67,2]\n",
    "a"
   ]
  },
  {
   "cell_type": "code",
   "execution_count": 89,
   "metadata": {},
   "outputs": [
    {
     "data": {
      "text/html": [
       "<div>\n",
       "<style scoped>\n",
       "    .dataframe tbody tr th:only-of-type {\n",
       "        vertical-align: middle;\n",
       "    }\n",
       "\n",
       "    .dataframe tbody tr th {\n",
       "        vertical-align: top;\n",
       "    }\n",
       "\n",
       "    .dataframe thead th {\n",
       "        text-align: right;\n",
       "    }\n",
       "</style>\n",
       "<table border=\"1\" class=\"dataframe\">\n",
       "  <thead>\n",
       "    <tr style=\"text-align: right;\">\n",
       "      <th></th>\n",
       "      <th>dr_Condo_Ind</th>\n",
       "      <th>Factor</th>\n",
       "    </tr>\n",
       "  </thead>\n",
       "  <tbody>\n",
       "    <tr>\n",
       "      <th>C(dr_Condo_Ind)[T.Not condo]</th>\n",
       "      <td>Not condo</td>\n",
       "      <td>2.832104</td>\n",
       "    </tr>\n",
       "  </tbody>\n",
       "</table>\n",
       "</div>"
      ],
      "text/plain": [
       "                             dr_Condo_Ind    Factor\n",
       "C(dr_Condo_Ind)[T.Not condo]    Not condo  2.832104"
      ]
     },
     "execution_count": 89,
     "metadata": {},
     "output_type": "execute_result"
    }
   ],
   "source": [
    "df3 = pd.DataFrame({'dr_Condo_Ind':[\"Not condo\"],\n",
    "              'Factor':result_df.iloc[66:67,2]})\n",
    "df3"
   ]
  },
  {
   "cell_type": "code",
   "execution_count": 90,
   "metadata": {},
   "outputs": [
    {
     "data": {
      "text/html": [
       "<div>\n",
       "<style scoped>\n",
       "    .dataframe tbody tr th:only-of-type {\n",
       "        vertical-align: middle;\n",
       "    }\n",
       "\n",
       "    .dataframe tbody tr th {\n",
       "        vertical-align: top;\n",
       "    }\n",
       "\n",
       "    .dataframe thead th {\n",
       "        text-align: right;\n",
       "    }\n",
       "</style>\n",
       "<table border=\"1\" class=\"dataframe\">\n",
       "  <thead>\n",
       "    <tr style=\"text-align: right;\">\n",
       "      <th></th>\n",
       "      <th>dr_Condo_Ind</th>\n",
       "      <th>Factor</th>\n",
       "    </tr>\n",
       "  </thead>\n",
       "  <tbody>\n",
       "    <tr>\n",
       "      <th>0</th>\n",
       "      <td>Condo</td>\n",
       "      <td>1.000000</td>\n",
       "    </tr>\n",
       "    <tr>\n",
       "      <th>C(dr_Condo_Ind)[T.Not condo]</th>\n",
       "      <td>Not condo</td>\n",
       "      <td>2.832104</td>\n",
       "    </tr>\n",
       "  </tbody>\n",
       "</table>\n",
       "</div>"
      ],
      "text/plain": [
       "                             dr_Condo_Ind    Factor\n",
       "0                                   Condo  1.000000\n",
       "C(dr_Condo_Ind)[T.Not condo]    Not condo  2.832104"
      ]
     },
     "execution_count": 90,
     "metadata": {},
     "output_type": "execute_result"
    }
   ],
   "source": [
    "df3 = pd.concat([df0,df3])\n",
    "df3"
   ]
  },
  {
   "cell_type": "code",
   "execution_count": 91,
   "metadata": {},
   "outputs": [
    {
     "data": {
      "image/png": "[encoded data removed]",
      "text/plain": [
       "<Figure size 1152x576 with 2 Axes>"
      ]
     },
     "metadata": {},
     "output_type": "display_data"
    }
   ],
   "source": [
    "# combine the plot\n",
    "sns.axes_style('dark')\n",
    "sns.set_style(\"white\")\n",
    "\n",
    "\n",
    "fig, ax1 = plt.subplots(figsize=(16,8))\n",
    "ax2 = ax1.twinx()\n",
    "    \n",
    "sns.barplot(ax=ax2, x = 'dr_Condo_Ind', y='Count', data=df1, color='orange')\n",
    "df3.plot.line(ax = ax1, x='dr_Condo_Ind', y  = 'Factor', color = 'darkgreen', legend = None)\n",
    "\n",
    "plt.setp(ax1.lines,linewidth=2.5)\n",
    "    \n",
    "ax1.grid(False)\n",
    "ax2.grid(False)\n",
    "    \n",
    "ax1.set_ylabel('Factor', color='darkgreen',fontsize=20)\n",
    "ax2.set_ylabel('# of Properties', color='orange',fontsize=20)\n",
    "    \n",
    "ax1.set_zorder(ax2.get_zorder()+1) \n",
    "ax1.patch.set_visible(False)\n",
    "ax1.set_ylim(0, 4)\n",
    "    \n",
    "plt.tick_params(axis='both', which='major', labelsize=10)\n",
    "plt.show()"
   ]
  },
  {
   "cell_type": "markdown",
   "metadata": {},
   "source": [
    "#### 21. X_Risk_Score"
   ]
  },
  {
   "cell_type": "code",
   "execution_count": 92,
   "metadata": {},
   "outputs": [
    {
     "data": {
      "text/html": [
       "<div>\n",
       "<style scoped>\n",
       "    .dataframe tbody tr th:only-of-type {\n",
       "        vertical-align: middle;\n",
       "    }\n",
       "\n",
       "    .dataframe tbody tr th {\n",
       "        vertical-align: top;\n",
       "    }\n",
       "\n",
       "    .dataframe thead th {\n",
       "        text-align: right;\n",
       "    }\n",
       "</style>\n",
       "<table border=\"1\" class=\"dataframe\">\n",
       "  <thead>\n",
       "    <tr style=\"text-align: right;\">\n",
       "      <th></th>\n",
       "      <th>X_Risk_Score</th>\n",
       "      <th>Count</th>\n",
       "    </tr>\n",
       "  </thead>\n",
       "  <tbody>\n",
       "    <tr>\n",
       "      <th>0</th>\n",
       "      <td>750.0</td>\n",
       "      <td>634930</td>\n",
       "    </tr>\n",
       "    <tr>\n",
       "      <th>1</th>\n",
       "      <td>700.0</td>\n",
       "      <td>627400</td>\n",
       "    </tr>\n",
       "    <tr>\n",
       "      <th>2</th>\n",
       "      <td>650.0</td>\n",
       "      <td>292200</td>\n",
       "    </tr>\n",
       "    <tr>\n",
       "      <th>3</th>\n",
       "      <td>LT650</td>\n",
       "      <td>117185</td>\n",
       "    </tr>\n",
       "    <tr>\n",
       "      <th>4</th>\n",
       "      <td>NA</td>\n",
       "      <td>110429</td>\n",
       "    </tr>\n",
       "    <tr>\n",
       "      <th>5</th>\n",
       "      <td>800.0</td>\n",
       "      <td>32982</td>\n",
       "    </tr>\n",
       "  </tbody>\n",
       "</table>\n",
       "</div>"
      ],
      "text/plain": [
       "  X_Risk_Score   Count\n",
       "0        750.0  634930\n",
       "1        700.0  627400\n",
       "2        650.0  292200\n",
       "3        LT650  117185\n",
       "4           NA  110429\n",
       "5        800.0   32982"
      ]
     },
     "execution_count": 92,
     "metadata": {},
     "output_type": "execute_result"
    }
   ],
   "source": [
    "#counts\n",
    "temp = gdf['X_Risk_Score'].value_counts()\n",
    "df1 = pd.DataFrame({'X_Risk_Score': temp.index, 'Count': temp.values})\n",
    "df1"
   ]
  },
  {
   "cell_type": "code",
   "execution_count": 93,
   "metadata": {},
   "outputs": [
    {
     "data": {
      "text/html": [
       "<div>\n",
       "<style scoped>\n",
       "    .dataframe tbody tr th:only-of-type {\n",
       "        vertical-align: middle;\n",
       "    }\n",
       "\n",
       "    .dataframe tbody tr th {\n",
       "        vertical-align: top;\n",
       "    }\n",
       "\n",
       "    .dataframe thead th {\n",
       "        text-align: right;\n",
       "    }\n",
       "</style>\n",
       "<table border=\"1\" class=\"dataframe\">\n",
       "  <thead>\n",
       "    <tr style=\"text-align: right;\">\n",
       "      <th></th>\n",
       "      <th>X_Risk_Score</th>\n",
       "      <th>Count</th>\n",
       "    </tr>\n",
       "  </thead>\n",
       "  <tbody>\n",
       "    <tr>\n",
       "      <th>3</th>\n",
       "      <td>LT650</td>\n",
       "      <td>117185</td>\n",
       "    </tr>\n",
       "    <tr>\n",
       "      <th>2</th>\n",
       "      <td>650.0</td>\n",
       "      <td>292200</td>\n",
       "    </tr>\n",
       "    <tr>\n",
       "      <th>0</th>\n",
       "      <td>750.0</td>\n",
       "      <td>634930</td>\n",
       "    </tr>\n",
       "    <tr>\n",
       "      <th>1</th>\n",
       "      <td>700.0</td>\n",
       "      <td>627400</td>\n",
       "    </tr>\n",
       "    <tr>\n",
       "      <th>5</th>\n",
       "      <td>800.0</td>\n",
       "      <td>32982</td>\n",
       "    </tr>\n",
       "    <tr>\n",
       "      <th>4</th>\n",
       "      <td>NA</td>\n",
       "      <td>110429</td>\n",
       "    </tr>\n",
       "  </tbody>\n",
       "</table>\n",
       "</div>"
      ],
      "text/plain": [
       "  X_Risk_Score   Count\n",
       "3        LT650  117185\n",
       "2        650.0  292200\n",
       "0        750.0  634930\n",
       "1        700.0  627400\n",
       "5        800.0   32982\n",
       "4           NA  110429"
      ]
     },
     "execution_count": 93,
     "metadata": {},
     "output_type": "execute_result"
    }
   ],
   "source": [
    "# reorder \n",
    "df1 = df1.reindex([3,2,0,1,5,4])\n",
    "df1"
   ]
  },
  {
   "cell_type": "code",
   "execution_count": 94,
   "metadata": {},
   "outputs": [
    {
     "data": {
      "text/plain": [
       "<matplotlib.axes._subplots.AxesSubplot at 0xb22c23978>"
      ]
     },
     "execution_count": 94,
     "metadata": {},
     "output_type": "execute_result"
    },
    {
     "data": {
      "image/png": "[encoded data removed]",
      "text/plain": [
       "<Figure size 432x288 with 1 Axes>"
      ]
     },
     "metadata": {},
     "output_type": "display_data"
    }
   ],
   "source": [
    "sns.barplot(x = 'X_Risk_Score', y = 'Count', data = df1, color = 'yellowgreen')"
   ]
  },
  {
   "cell_type": "code",
   "execution_count": 97,
   "metadata": {},
   "outputs": [
    {
     "data": {
      "text/plain": [
       "C(X_Risk_Score)[T.700.0]    0.653725\n",
       "C(X_Risk_Score)[T.750.0]    0.347221\n",
       "C(X_Risk_Score)[T.800.0]    0.130020\n",
       "C(X_Risk_Score)[T.LT650]    1.293751\n",
       "C(X_Risk_Score)[T.NA]       0.299273\n",
       "Name: Factor, dtype: float64"
      ]
     },
     "execution_count": 97,
     "metadata": {},
     "output_type": "execute_result"
    }
   ],
   "source": [
    "a=result_df.iloc[86:91,2]\n",
    "a"
   ]
  },
  {
   "cell_type": "code",
   "execution_count": 98,
   "metadata": {},
   "outputs": [
    {
     "data": {
      "text/html": [
       "<div>\n",
       "<style scoped>\n",
       "    .dataframe tbody tr th:only-of-type {\n",
       "        vertical-align: middle;\n",
       "    }\n",
       "\n",
       "    .dataframe tbody tr th {\n",
       "        vertical-align: top;\n",
       "    }\n",
       "\n",
       "    .dataframe thead th {\n",
       "        text-align: right;\n",
       "    }\n",
       "</style>\n",
       "<table border=\"1\" class=\"dataframe\">\n",
       "  <thead>\n",
       "    <tr style=\"text-align: right;\">\n",
       "      <th></th>\n",
       "      <th>X_Risk_Score</th>\n",
       "      <th>Factor</th>\n",
       "    </tr>\n",
       "  </thead>\n",
       "  <tbody>\n",
       "    <tr>\n",
       "      <th>0</th>\n",
       "      <td>650-700</td>\n",
       "      <td>1</td>\n",
       "    </tr>\n",
       "  </tbody>\n",
       "</table>\n",
       "</div>"
      ],
      "text/plain": [
       "  X_Risk_Score  Factor\n",
       "0      650-700       1"
      ]
     },
     "execution_count": 98,
     "metadata": {},
     "output_type": "execute_result"
    }
   ],
   "source": [
    "df0 = pd.DataFrame({'X_Risk_Score':[\"650-700\"],\n",
    "              'Factor':1})\n",
    "df0"
   ]
  },
  {
   "cell_type": "code",
   "execution_count": 102,
   "metadata": {},
   "outputs": [
    {
     "data": {
      "text/html": [
       "<div>\n",
       "<style scoped>\n",
       "    .dataframe tbody tr th:only-of-type {\n",
       "        vertical-align: middle;\n",
       "    }\n",
       "\n",
       "    .dataframe tbody tr th {\n",
       "        vertical-align: top;\n",
       "    }\n",
       "\n",
       "    .dataframe thead th {\n",
       "        text-align: right;\n",
       "    }\n",
       "</style>\n",
       "<table border=\"1\" class=\"dataframe\">\n",
       "  <thead>\n",
       "    <tr style=\"text-align: right;\">\n",
       "      <th></th>\n",
       "      <th>X_Risk_Score</th>\n",
       "      <th>Factor</th>\n",
       "    </tr>\n",
       "  </thead>\n",
       "  <tbody>\n",
       "    <tr>\n",
       "      <th>C(X_Risk_Score)[T.700.0]</th>\n",
       "      <td>700-750</td>\n",
       "      <td>0.653725</td>\n",
       "    </tr>\n",
       "    <tr>\n",
       "      <th>C(X_Risk_Score)[T.750.0]</th>\n",
       "      <td>750-800</td>\n",
       "      <td>0.347221</td>\n",
       "    </tr>\n",
       "    <tr>\n",
       "      <th>C(X_Risk_Score)[T.800.0]</th>\n",
       "      <td>GT800</td>\n",
       "      <td>0.130020</td>\n",
       "    </tr>\n",
       "    <tr>\n",
       "      <th>C(X_Risk_Score)[T.LT650]</th>\n",
       "      <td>LT650</td>\n",
       "      <td>1.293751</td>\n",
       "    </tr>\n",
       "    <tr>\n",
       "      <th>C(X_Risk_Score)[T.NA]</th>\n",
       "      <td>NA</td>\n",
       "      <td>0.299273</td>\n",
       "    </tr>\n",
       "  </tbody>\n",
       "</table>\n",
       "</div>"
      ],
      "text/plain": [
       "                         X_Risk_Score    Factor\n",
       "C(X_Risk_Score)[T.700.0]      700-750  0.653725\n",
       "C(X_Risk_Score)[T.750.0]      750-800  0.347221\n",
       "C(X_Risk_Score)[T.800.0]        GT800  0.130020\n",
       "C(X_Risk_Score)[T.LT650]        LT650  1.293751\n",
       "C(X_Risk_Score)[T.NA]              NA  0.299273"
      ]
     },
     "execution_count": 102,
     "metadata": {},
     "output_type": "execute_result"
    }
   ],
   "source": [
    "df3 = pd.DataFrame({'X_Risk_Score':[\"700-750\",\"750-800\",\"GT800\",\"LT650\",\"NA\"],\n",
    "              'Factor':result_df.iloc[86:91,2]})\n",
    "df3"
   ]
  },
  {
   "cell_type": "code",
   "execution_count": 103,
   "metadata": {},
   "outputs": [
    {
     "data": {
      "text/html": [
       "<div>\n",
       "<style scoped>\n",
       "    .dataframe tbody tr th:only-of-type {\n",
       "        vertical-align: middle;\n",
       "    }\n",
       "\n",
       "    .dataframe tbody tr th {\n",
       "        vertical-align: top;\n",
       "    }\n",
       "\n",
       "    .dataframe thead th {\n",
       "        text-align: right;\n",
       "    }\n",
       "</style>\n",
       "<table border=\"1\" class=\"dataframe\">\n",
       "  <thead>\n",
       "    <tr style=\"text-align: right;\">\n",
       "      <th></th>\n",
       "      <th>X_Risk_Score</th>\n",
       "      <th>Factor</th>\n",
       "    </tr>\n",
       "  </thead>\n",
       "  <tbody>\n",
       "    <tr>\n",
       "      <th>0</th>\n",
       "      <td>650-700</td>\n",
       "      <td>1.000000</td>\n",
       "    </tr>\n",
       "    <tr>\n",
       "      <th>C(X_Risk_Score)[T.700.0]</th>\n",
       "      <td>700-750</td>\n",
       "      <td>0.653725</td>\n",
       "    </tr>\n",
       "    <tr>\n",
       "      <th>C(X_Risk_Score)[T.750.0]</th>\n",
       "      <td>750-800</td>\n",
       "      <td>0.347221</td>\n",
       "    </tr>\n",
       "    <tr>\n",
       "      <th>C(X_Risk_Score)[T.800.0]</th>\n",
       "      <td>GT800</td>\n",
       "      <td>0.130020</td>\n",
       "    </tr>\n",
       "    <tr>\n",
       "      <th>C(X_Risk_Score)[T.LT650]</th>\n",
       "      <td>LT650</td>\n",
       "      <td>1.293751</td>\n",
       "    </tr>\n",
       "    <tr>\n",
       "      <th>C(X_Risk_Score)[T.NA]</th>\n",
       "      <td>NA</td>\n",
       "      <td>0.299273</td>\n",
       "    </tr>\n",
       "  </tbody>\n",
       "</table>\n",
       "</div>"
      ],
      "text/plain": [
       "                         X_Risk_Score    Factor\n",
       "0                             650-700  1.000000\n",
       "C(X_Risk_Score)[T.700.0]      700-750  0.653725\n",
       "C(X_Risk_Score)[T.750.0]      750-800  0.347221\n",
       "C(X_Risk_Score)[T.800.0]        GT800  0.130020\n",
       "C(X_Risk_Score)[T.LT650]        LT650  1.293751\n",
       "C(X_Risk_Score)[T.NA]              NA  0.299273"
      ]
     },
     "execution_count": 103,
     "metadata": {},
     "output_type": "execute_result"
    }
   ],
   "source": [
    "df3 = pd.concat([df0,df3])\n",
    "df3"
   ]
  },
  {
   "cell_type": "code",
   "execution_count": 104,
   "metadata": {},
   "outputs": [
    {
     "data": {
      "text/html": [
       "<div>\n",
       "<style scoped>\n",
       "    .dataframe tbody tr th:only-of-type {\n",
       "        vertical-align: middle;\n",
       "    }\n",
       "\n",
       "    .dataframe tbody tr th {\n",
       "        vertical-align: top;\n",
       "    }\n",
       "\n",
       "    .dataframe thead th {\n",
       "        text-align: right;\n",
       "    }\n",
       "</style>\n",
       "<table border=\"1\" class=\"dataframe\">\n",
       "  <thead>\n",
       "    <tr style=\"text-align: right;\">\n",
       "      <th></th>\n",
       "      <th>X_Risk_Score</th>\n",
       "      <th>Factor</th>\n",
       "    </tr>\n",
       "  </thead>\n",
       "  <tbody>\n",
       "    <tr>\n",
       "      <th>C(X_Risk_Score)[T.LT650]</th>\n",
       "      <td>LT650</td>\n",
       "      <td>1.293751</td>\n",
       "    </tr>\n",
       "    <tr>\n",
       "      <th>0</th>\n",
       "      <td>650-700</td>\n",
       "      <td>1.000000</td>\n",
       "    </tr>\n",
       "    <tr>\n",
       "      <th>C(X_Risk_Score)[T.700.0]</th>\n",
       "      <td>700-750</td>\n",
       "      <td>0.653725</td>\n",
       "    </tr>\n",
       "    <tr>\n",
       "      <th>C(X_Risk_Score)[T.750.0]</th>\n",
       "      <td>750-800</td>\n",
       "      <td>0.347221</td>\n",
       "    </tr>\n",
       "    <tr>\n",
       "      <th>C(X_Risk_Score)[T.800.0]</th>\n",
       "      <td>GT800</td>\n",
       "      <td>0.130020</td>\n",
       "    </tr>\n",
       "    <tr>\n",
       "      <th>C(X_Risk_Score)[T.NA]</th>\n",
       "      <td>NA</td>\n",
       "      <td>0.299273</td>\n",
       "    </tr>\n",
       "  </tbody>\n",
       "</table>\n",
       "</div>"
      ],
      "text/plain": [
       "                         X_Risk_Score    Factor\n",
       "C(X_Risk_Score)[T.LT650]        LT650  1.293751\n",
       "0                             650-700  1.000000\n",
       "C(X_Risk_Score)[T.700.0]      700-750  0.653725\n",
       "C(X_Risk_Score)[T.750.0]      750-800  0.347221\n",
       "C(X_Risk_Score)[T.800.0]        GT800  0.130020\n",
       "C(X_Risk_Score)[T.NA]              NA  0.299273"
      ]
     },
     "execution_count": 104,
     "metadata": {},
     "output_type": "execute_result"
    }
   ],
   "source": [
    "#re-order\n",
    "df3 = df3.reindex(['C(X_Risk_Score)[T.LT650]',\n",
    "             0,\n",
    "             'C(X_Risk_Score)[T.700.0]',\n",
    "             'C(X_Risk_Score)[T.750.0]',\n",
    "             'C(X_Risk_Score)[T.800.0]',\n",
    "             'C(X_Risk_Score)[T.NA]'])\n",
    "df3"
   ]
  },
  {
   "cell_type": "code",
   "execution_count": 105,
   "metadata": {},
   "outputs": [
    {
     "data": {
      "image/png": "[encoded data removed]",
      "text/plain": [
       "<Figure size 1008x432 with 2 Axes>"
      ]
     },
     "metadata": {},
     "output_type": "display_data"
    }
   ],
   "source": [
    "# combine the plot\n",
    "sns.axes_style('dark')\n",
    "sns.set_style(\"white\")\n",
    "\n",
    "\n",
    "fig, ax1 = plt.subplots(figsize=(14,6))\n",
    "ax2 = ax1.twinx()\n",
    "    \n",
    "sns.barplot(ax=ax2, x = 'X_Risk_Score', y='Count', data=df1, color='orange')\n",
    "df3.plot.line(ax = ax1, x='X_Risk_Score', y  = 'Factor', color = 'darkgreen', legend = None)\n",
    "\n",
    "plt.setp(ax1.lines,linewidth=2.5)\n",
    "    \n",
    "ax1.grid(False)\n",
    "ax2.grid(False)\n",
    "    \n",
    "ax1.set_ylabel('Factor', color='darkgreen',fontsize=20)\n",
    "ax2.set_ylabel('# of Properties', color='orange',fontsize=20)\n",
    "    \n",
    "ax1.set_zorder(ax2.get_zorder()+1) \n",
    "ax1.patch.set_visible(False)\n",
    "ax1.set_ylim(0, 2)\n",
    "    \n",
    "plt.tick_params(axis='both', which='major', labelsize=10)\n",
    "plt.show()"
   ]
  },
  {
   "cell_type": "code",
   "execution_count": null,
   "metadata": {},
   "outputs": [],
   "source": []
  }
 ],
 "metadata": {
  "kernelspec": {
   "display_name": "Python 3",
   "language": "python",
   "name": "python3"
  },
  "language_info": {
   "codemirror_mode": {
    "name": "ipython",
    "version": 3
   },
   "file_extension": ".py",
   "mimetype": "text/x-python",
   "name": "python",
   "nbconvert_exporter": "python",
   "pygments_lexer": "ipython3",
   "version": "3.7.1"
  }
 },
 "nbformat": 4,
 "nbformat_minor": 2
}
